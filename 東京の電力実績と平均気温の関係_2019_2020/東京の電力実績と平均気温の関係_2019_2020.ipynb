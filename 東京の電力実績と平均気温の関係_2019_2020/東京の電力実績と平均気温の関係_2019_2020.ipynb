{
  "cells": [
    {
      "cell_type": "markdown",
      "metadata": {
        "id": "EzwCagWajjyA"
      },
      "source": [
        "Googleドライブを使用できるようにするための準備"
      ]
    },
    {
      "cell_type": "code",
      "execution_count": null,
      "metadata": {
        "id": "_pzrQGdE9uvr"
      },
      "outputs": [],
      "source": [
        "!pip install -U -q PyDrive\n",
        "\n",
        "from pydrive.auth import GoogleAuth\n",
        "from pydrive.drive import GoogleDrive\n",
        "from google.colab import auth\n",
        "from oauth2client.client import GoogleCredentials\n",
        "\n",
        "auth.authenticate_user()\n",
        "gauth = GoogleAuth()\n",
        "gauth.credentials = GoogleCredentials.get_application_default()\n",
        "drive = GoogleDrive(gauth)"
      ]
    },
    {
      "cell_type": "markdown",
      "metadata": {
        "id": "GUynp78dUoHa"
      },
      "source": [
        "必要なライブラリ等の準備"
      ]
    },
    {
      "cell_type": "code",
      "execution_count": null,
      "metadata": {
        "colab": {
          "base_uri": "https://localhost:8080/"
        },
        "id": "tezazn0yVlw1",
        "outputId": "5cf4f88c-f21c-4491-ed69-d57e41f6e6fb"
      },
      "outputs": [],
      "source": [
        "!pip install japanize-matplotlib"
      ]
    },
    {
      "cell_type": "code",
      "execution_count": null,
      "metadata": {
        "colab": {
          "base_uri": "https://localhost:8080/"
        },
        "id": "IyQs0ysVSRR-",
        "outputId": "df17d802-1fc7-43c7-c97a-025372d1f71b"
      },
      "outputs": [],
      "source": [
        "%matplotlib inline\n",
        "import pandas as pd\n",
        "import matplotlib.pyplot as plt\n",
        "from matplotlib import cm\n",
        "import japanize_matplotlib \n",
        "import plotly\n",
        "import plotly.graph_objs as go\n",
        "# Google Colab. やJupyter Lab.でplotlyを使用するための準備\n",
        "import plotly.io as pio\n",
        "from plotly.subplots import make_subplots\n",
        "pio.renderers.default = \"colab\"\n",
        "# orcaのインストール\n",
        "!pip install plotly>=4.7.1\n",
        "!wget https://github.com/plotly/orca/releases/download/v1.2.1/orca-1.2.1-x86_64.AppImage -O /usr/local/bin/orca\n",
        "!chmod +x /usr/local/bin/orca\n",
        "!apt-get install xvfb libgtk2.0-0 libgconf-2-4\n",
        "\n",
        "from plotly.offline import iplot, plot, download_plotlyjs, init_notebook_mode\n",
        "import plotly.graph_objs as go\n",
        "\n",
        "plt.rcParams['font.family']\n",
        "plt.rcParams['font.family'] = 'IPAexGothic'"
      ]
    },
    {
      "cell_type": "code",
      "execution_count": null,
      "metadata": {
        "colab": {
          "base_uri": "https://localhost:8080/"
        },
        "id": "jEu97lVg2LwJ",
        "outputId": "43a695e6-507b-4ed1-f4ec-638e55670926"
      },
      "outputs": [],
      "source": [
        "!pip install plotly==5.3.1"
      ]
    },
    {
      "cell_type": "code",
      "execution_count": null,
      "metadata": {
        "colab": {
          "base_uri": "https://localhost:8080/"
        },
        "id": "mFCqPeBT1O0N",
        "outputId": "28ef3db3-65f1-49c5-ed92-728ae3eb9d07"
      },
      "outputs": [],
      "source": [
        "!pip install -U kaleido"
      ]
    },
    {
      "cell_type": "code",
      "execution_count": null,
      "metadata": {
        "colab": {
          "base_uri": "https://localhost:8080/"
        },
        "id": "8_fbAlywU-qf",
        "outputId": "ed7f844d-05cf-4592-ea89-7b7a9b1865d5"
      },
      "outputs": [],
      "source": [
        "!pip install fpdf\n",
        "\n",
        "# 「IPA」フォントをインストール\n",
        "!apt-get -y install fonts-ipafont-gothic\n",
        "# matplotlibのキャッシュをクリア\n",
        "!rm /root/.cache/matplotlib/fontlist-v300.json"
      ]
    },
    {
      "cell_type": "markdown",
      "metadata": {
        "id": "U2Yo7oTHl0jQ"
      },
      "source": [
        "各データファイルの取得"
      ]
    },
    {
      "cell_type": "code",
      "execution_count": null,
      "metadata": {
        "colab": {
          "base_uri": "https://localhost:8080/"
        },
        "id": "gT2pdjR19Pso",
        "outputId": "a6412345-f16b-4f33-c503-d69d4922fa7e"
      },
      "outputs": [],
      "source": [
        "# ブラウザでフォルダを表示するとURLのfolders以降がフォルダのIDになっている\n",
        "# https://drive.google.com/drive/folders/<ID>\n",
        "dir_id = \"(読み込みたいファイルがある場所)\"\n",
        "\n",
        "# フォルダ内にあるファイル名とファイルIDを表示する\n",
        "file_list = drive.ListFile({'q': \"'%s' in parents and trashed=false\" % dir_id}).GetList()\n",
        "\n",
        "file_dict = {}\n",
        "for f in file_list:\n",
        "  if(f[\"title\"] in \"data.csv\"):\n",
        "    file_dict[\"data.csv\"] = f[\"id\"]\n",
        "  elif(f[\"title\"] in \"juyo-result-2020-j.csv\"):\n",
        "    file_dict[\"juyo-result-2020-j.csv\"] = f[\"id\"]\n",
        "  else:\n",
        "    file_dict[\"juyo-result-2019-j.csv\"] = f[\"id\"]\n",
        "\n",
        "file_dict"
      ]
    },
    {
      "cell_type": "code",
      "execution_count": null,
      "metadata": {
        "id": "QeslmZXQ-DvD"
      },
      "outputs": [],
      "source": [
        "# 上記の方法で調べたファイルのID\n",
        "file_id = file_dict[\"data.csv\"]\n",
        "drive_file = drive.CreateFile({'id': file_id})\n",
        "\n",
        "# 平均気温ファイルの取得\n",
        "drive_file.GetContentFile(\"data.csv\")\n",
        "\n",
        "data = pd.read_csv('data.csv', encoding=\"shift-jis\", header=2)"
      ]
    },
    {
      "cell_type": "markdown",
      "metadata": {
        "id": "jalQepQPgvYN"
      },
      "source": [
        "2020年の電力実績データを取得し、月ごとの平均電力実績を求める"
      ]
    },
    {
      "cell_type": "code",
      "execution_count": null,
      "metadata": {
        "id": "g_y3Pn8jm6un"
      },
      "outputs": [],
      "source": [
        "file_id = file_dict[\"juyo-result-2020-j.csv\"]\n",
        "drive_file = drive.CreateFile({'id': file_id})\n",
        "\n",
        "# 2020年の電力実績データファイルの取得\n",
        "drive_file.GetContentFile(\"juyo-result-2020-j.csv\")\n",
        "\n",
        "juyo_result_2020_j = pd.read_csv('juyo-result-2020-j.csv', encoding=\"shift-jis\", header=1)\n",
        "jr2020 = juyo_result_2020_j.loc[:,[\"DATE\", \"実績(万kW)\"]]\n",
        "df_i = jr2020.set_index('DATE')\n",
        "\n",
        "months = []\n",
        "january = df_i.loc['2020/1/1':'2020/1/31']\n",
        "months.append(january)\n",
        "february = months.append(df_i.loc['2020/2/1':'2020/2/29'])\n",
        "march = months.append(df_i.loc['2020/3/1':'2020/3/31'])\n",
        "april = months.append(df_i.loc['2020/4/1':'2020/4/30'])\n",
        "may = months.append(df_i.loc['2020/5/1':'2020/5/31'])\n",
        "june = months.append(df_i.loc['2020/6/1':'2020/6/30'])\n",
        "july = months.append(df_i.loc['2020/7/1':'2020/7/31'])\n",
        "august = months.append(df_i.loc['2020/8/1':'2020/8/31'])\n",
        "september = months.append(df_i.loc['2020/9/1':'2020/9/30'])\n",
        "october = months.append(df_i.loc['2020/10/1':'2020/10/31'])\n",
        "november = months.append(df_i.loc['2020/11/1':'2020/11/30'])\n",
        "december = months.append(df_i.loc['2020/12/1':'2020/12/31'])\n",
        "\n",
        "maa2020 = []\n",
        "for month in months:\n",
        "  month_achievement = month.loc[:,[\"実績(万kW)\"]]\n",
        "  maa2020.append(month_achievement.mean().values)"
      ]
    },
    {
      "cell_type": "markdown",
      "metadata": {
        "id": "TPQ7namlhaS4"
      },
      "source": [
        "2019年の電力実績データを取得し、月ごとの平均電力実績を求める"
      ]
    },
    {
      "cell_type": "code",
      "execution_count": null,
      "metadata": {
        "id": "ILwlT3nKnGNn"
      },
      "outputs": [],
      "source": [
        "file_id = file_dict[\"juyo-result-2019-j.csv\"]\n",
        "drive_file = drive.CreateFile({'id': file_id})\n",
        "\n",
        "# 2019年の電力実績データファイルの取得\n",
        "drive_file.GetContentFile(\"juyo-result-2019-j.csv\")\n",
        "\n",
        "juyo_result_2019_j = pd.read_csv('juyo-result-2019-j.csv', encoding=\"shift-jis\", header=1)\n",
        "jr2019 = juyo_result_2019_j.loc[:,[\"DATE\", \"実績(万kW)\"]]\n",
        "df_i = jr2019.set_index('DATE')\n",
        "\n",
        "months = []\n",
        "january = months.append(df_i.loc['2019/1/1':'2019/1/31'])\n",
        "february = months.append(df_i.loc['2019/2/1':'2019/2/28'])\n",
        "march = months.append(df_i.loc['2019/3/1':'2019/3/31'])\n",
        "april = months.append(df_i.loc['2019/4/1':'2019/4/30'])\n",
        "may = months.append(df_i.loc['2019/5/1':'2019/5/31'])\n",
        "june = months.append(df_i.loc['2019/6/1':'2019/6/30'])\n",
        "july = months.append(df_i.loc['2019/7/1':'2019/7/31'])\n",
        "august = months.append(df_i.loc['2019/8/1':'2019/8/31'])\n",
        "september = months.append(df_i.loc['2019/9/1':'2019/9/30'])\n",
        "october = months.append(df_i.loc['2019/10/1':'2019/10/31'])\n",
        "november = months.append(df_i.loc['2019/11/1':'2019/11/30'])\n",
        "december = months.append(df_i.loc['2019/12/1':'2019/12/31'])\n",
        "\n",
        "maa2019 = []\n",
        "for month in months:\n",
        "  month_achievement = month.loc[:,[\"実績(万kW)\"]]\n",
        "  maa2019.append(month_achievement.mean().values)\n",
        "\n",
        "# 2019年の電力実績の平均値と2020年の電力実績の平均値を一つのリストに格納する\n",
        "maa = maa2019 + maa2020"
      ]
    },
    {
      "cell_type": "code",
      "execution_count": null,
      "metadata": {
        "colab": {
          "base_uri": "https://localhost:8080/"
        },
        "id": "tI7vwaJ1d3JL",
        "outputId": "f500548b-2383-419e-b484-42c3c44ad437"
      },
      "outputs": [
        {
          "name": "stdout",
          "output_type": "stream",
          "text": [
            "object\n",
            "       DATE  平均電力実績(万kW)\n",
            "0    2019/1  4273.967742\n",
            "1    2019/2  4191.500000\n",
            "2    2019/3  3672.741935\n",
            "3    2019/4  3400.566667\n",
            "4    2019/5  3286.354839\n",
            "5    2019/6  3552.466667\n",
            "6    2019/7  3978.064516\n",
            "7    2019/8  4571.774194\n",
            "8    2019/9  4076.933333\n",
            "9   2019/10  3469.580645\n",
            "10  2019/11  3535.333333\n",
            "11  2019/12  3986.161290\n",
            "12   2020/1  4119.903226\n",
            "13   2020/2  3989.931034\n",
            "14   2020/3  3671.354839\n",
            "15   2020/4  3272.400000\n",
            "16   2020/5  2971.774194\n",
            "17   2020/6  3618.133333\n",
            "18   2020/7  3794.258065\n",
            "19   2020/8  4788.548387\n",
            "20   2020/9  4026.266667\n",
            "21  2020/10  3331.516129\n",
            "22  2020/11  3462.233333\n",
            "23  2020/12  4117.774194\n"
          ]
        }
      ],
      "source": [
        "# 2019年と2020年の月ごとの平均電力実績をDataFrame化する\n",
        "df = pd.DataFrame({'DATE': ['2019/1', '2019/2', '2019/3','2019/4', '2019/5', '2019/6','2019/7', '2019/8', '2019/9','2019/10', '2019/11', '2019/12', '2020/1', '2020/2', '2020/3','2020/4', '2020/5', '2020/6','2020/7', '2020/8', '2020/9','2020/10', '2020/11', '2020/12'],\n",
        "                   '平均電力実績(万kW)': maa})\n",
        "print(df[\"平均電力実績(万kW)\"].dtype)\n",
        "\n",
        "# グラフ化するために平均電力実績をfloat型に変換する\n",
        "# 変数名eppはElectric power performanceの略\n",
        "epp = df.astype({\"平均電力実績(万kW)\": float})\n",
        "print(epp)"
      ]
    },
    {
      "cell_type": "markdown",
      "metadata": {
        "id": "0heo72CDjR--"
      },
      "source": [
        "2019年から2020年の電力実績をグラフ化する"
      ]
    },
    {
      "cell_type": "code",
      "execution_count": null,
      "metadata": {
        "colab": {
          "base_uri": "https://localhost:8080/",
          "height": 542
        },
        "id": "XD95lLRpiLw7",
        "outputId": "9fe11028-8127-4745-cf32-9164b5a1f1c6"
      },
      "outputs": [
        {
          "data": {
            "text/html": [
              "<html>\n",
              "<head><meta charset=\"utf-8\" /></head>\n",
              "<body>\n",
              "    <div>            <script src=\"https://cdnjs.cloudflare.com/ajax/libs/mathjax/2.7.5/MathJax.js?config=TeX-AMS-MML_SVG\"></script><script type=\"text/javascript\">if (window.MathJax) {MathJax.Hub.Config({SVG: {font: \"STIX-Web\"}});}</script>                <script type=\"text/javascript\">window.PlotlyConfig = {MathJaxConfig: 'local'};</script>\n",
              "        <script src=\"https://cdn.plot.ly/plotly-2.4.2.min.js\"></script>                <div id=\"af97d52d-111a-4d62-a9a8-2609290de103\" class=\"plotly-graph-div\" style=\"height:525px; width:100%;\"></div>            <script type=\"text/javascript\">                                    window.PLOTLYENV=window.PLOTLYENV || {};                                    if (document.getElementById(\"af97d52d-111a-4d62-a9a8-2609290de103\")) {                    Plotly.newPlot(                        \"af97d52d-111a-4d62-a9a8-2609290de103\",                        [{\"name\":\"\\u96fb\\u529b\\u5b9f\\u7e3e\\u53ef\\u8996\\u5316\\u30b0\\u30e9\\u30d5\",\"type\":\"bar\",\"x\":[\"2019/1\",\"2019/2\",\"2019/3\",\"2019/4\",\"2019/5\",\"2019/6\",\"2019/7\",\"2019/8\",\"2019/9\",\"2019/10\",\"2019/11\",\"2019/12\",\"2020/1\",\"2020/2\",\"2020/3\",\"2020/4\",\"2020/5\",\"2020/6\",\"2020/7\",\"2020/8\",\"2020/9\",\"2020/10\",\"2020/11\",\"2020/12\"],\"y\":[4273.967741935484,4191.5,3672.7419354838707,3400.5666666666666,3286.3548387096776,3552.4666666666667,3978.064516129032,4571.774193548387,4076.9333333333334,3469.5806451612902,3535.3333333333335,3986.1612903225805,4119.903225806452,3989.9310344827586,3671.3548387096776,3272.4,2971.7741935483873,3618.133333333333,3794.2580645161293,4788.548387096775,4026.266666666667,3331.516129032258,3462.233333333333,4117.774193548387]}],                        {\"template\":{\"data\":{\"bar\":[{\"error_x\":{\"color\":\"#2a3f5f\"},\"error_y\":{\"color\":\"#2a3f5f\"},\"marker\":{\"line\":{\"color\":\"#E5ECF6\",\"width\":0.5},\"pattern\":{\"fillmode\":\"overlay\",\"size\":10,\"solidity\":0.2}},\"type\":\"bar\"}],\"barpolar\":[{\"marker\":{\"line\":{\"color\":\"#E5ECF6\",\"width\":0.5},\"pattern\":{\"fillmode\":\"overlay\",\"size\":10,\"solidity\":0.2}},\"type\":\"barpolar\"}],\"carpet\":[{\"aaxis\":{\"endlinecolor\":\"#2a3f5f\",\"gridcolor\":\"white\",\"linecolor\":\"white\",\"minorgridcolor\":\"white\",\"startlinecolor\":\"#2a3f5f\"},\"baxis\":{\"endlinecolor\":\"#2a3f5f\",\"gridcolor\":\"white\",\"linecolor\":\"white\",\"minorgridcolor\":\"white\",\"startlinecolor\":\"#2a3f5f\"},\"type\":\"carpet\"}],\"choropleth\":[{\"colorbar\":{\"outlinewidth\":0,\"ticks\":\"\"},\"type\":\"choropleth\"}],\"contour\":[{\"colorbar\":{\"outlinewidth\":0,\"ticks\":\"\"},\"colorscale\":[[0.0,\"#0d0887\"],[0.1111111111111111,\"#46039f\"],[0.2222222222222222,\"#7201a8\"],[0.3333333333333333,\"#9c179e\"],[0.4444444444444444,\"#bd3786\"],[0.5555555555555556,\"#d8576b\"],[0.6666666666666666,\"#ed7953\"],[0.7777777777777778,\"#fb9f3a\"],[0.8888888888888888,\"#fdca26\"],[1.0,\"#f0f921\"]],\"type\":\"contour\"}],\"contourcarpet\":[{\"colorbar\":{\"outlinewidth\":0,\"ticks\":\"\"},\"type\":\"contourcarpet\"}],\"heatmap\":[{\"colorbar\":{\"outlinewidth\":0,\"ticks\":\"\"},\"colorscale\":[[0.0,\"#0d0887\"],[0.1111111111111111,\"#46039f\"],[0.2222222222222222,\"#7201a8\"],[0.3333333333333333,\"#9c179e\"],[0.4444444444444444,\"#bd3786\"],[0.5555555555555556,\"#d8576b\"],[0.6666666666666666,\"#ed7953\"],[0.7777777777777778,\"#fb9f3a\"],[0.8888888888888888,\"#fdca26\"],[1.0,\"#f0f921\"]],\"type\":\"heatmap\"}],\"heatmapgl\":[{\"colorbar\":{\"outlinewidth\":0,\"ticks\":\"\"},\"colorscale\":[[0.0,\"#0d0887\"],[0.1111111111111111,\"#46039f\"],[0.2222222222222222,\"#7201a8\"],[0.3333333333333333,\"#9c179e\"],[0.4444444444444444,\"#bd3786\"],[0.5555555555555556,\"#d8576b\"],[0.6666666666666666,\"#ed7953\"],[0.7777777777777778,\"#fb9f3a\"],[0.8888888888888888,\"#fdca26\"],[1.0,\"#f0f921\"]],\"type\":\"heatmapgl\"}],\"histogram\":[{\"marker\":{\"pattern\":{\"fillmode\":\"overlay\",\"size\":10,\"solidity\":0.2}},\"type\":\"histogram\"}],\"histogram2d\":[{\"colorbar\":{\"outlinewidth\":0,\"ticks\":\"\"},\"colorscale\":[[0.0,\"#0d0887\"],[0.1111111111111111,\"#46039f\"],[0.2222222222222222,\"#7201a8\"],[0.3333333333333333,\"#9c179e\"],[0.4444444444444444,\"#bd3786\"],[0.5555555555555556,\"#d8576b\"],[0.6666666666666666,\"#ed7953\"],[0.7777777777777778,\"#fb9f3a\"],[0.8888888888888888,\"#fdca26\"],[1.0,\"#f0f921\"]],\"type\":\"histogram2d\"}],\"histogram2dcontour\":[{\"colorbar\":{\"outlinewidth\":0,\"ticks\":\"\"},\"colorscale\":[[0.0,\"#0d0887\"],[0.1111111111111111,\"#46039f\"],[0.2222222222222222,\"#7201a8\"],[0.3333333333333333,\"#9c179e\"],[0.4444444444444444,\"#bd3786\"],[0.5555555555555556,\"#d8576b\"],[0.6666666666666666,\"#ed7953\"],[0.7777777777777778,\"#fb9f3a\"],[0.8888888888888888,\"#fdca26\"],[1.0,\"#f0f921\"]],\"type\":\"histogram2dcontour\"}],\"mesh3d\":[{\"colorbar\":{\"outlinewidth\":0,\"ticks\":\"\"},\"type\":\"mesh3d\"}],\"parcoords\":[{\"line\":{\"colorbar\":{\"outlinewidth\":0,\"ticks\":\"\"}},\"type\":\"parcoords\"}],\"pie\":[{\"automargin\":true,\"type\":\"pie\"}],\"scatter\":[{\"marker\":{\"colorbar\":{\"outlinewidth\":0,\"ticks\":\"\"}},\"type\":\"scatter\"}],\"scatter3d\":[{\"line\":{\"colorbar\":{\"outlinewidth\":0,\"ticks\":\"\"}},\"marker\":{\"colorbar\":{\"outlinewidth\":0,\"ticks\":\"\"}},\"type\":\"scatter3d\"}],\"scattercarpet\":[{\"marker\":{\"colorbar\":{\"outlinewidth\":0,\"ticks\":\"\"}},\"type\":\"scattercarpet\"}],\"scattergeo\":[{\"marker\":{\"colorbar\":{\"outlinewidth\":0,\"ticks\":\"\"}},\"type\":\"scattergeo\"}],\"scattergl\":[{\"marker\":{\"colorbar\":{\"outlinewidth\":0,\"ticks\":\"\"}},\"type\":\"scattergl\"}],\"scattermapbox\":[{\"marker\":{\"colorbar\":{\"outlinewidth\":0,\"ticks\":\"\"}},\"type\":\"scattermapbox\"}],\"scatterpolar\":[{\"marker\":{\"colorbar\":{\"outlinewidth\":0,\"ticks\":\"\"}},\"type\":\"scatterpolar\"}],\"scatterpolargl\":[{\"marker\":{\"colorbar\":{\"outlinewidth\":0,\"ticks\":\"\"}},\"type\":\"scatterpolargl\"}],\"scatterternary\":[{\"marker\":{\"colorbar\":{\"outlinewidth\":0,\"ticks\":\"\"}},\"type\":\"scatterternary\"}],\"surface\":[{\"colorbar\":{\"outlinewidth\":0,\"ticks\":\"\"},\"colorscale\":[[0.0,\"#0d0887\"],[0.1111111111111111,\"#46039f\"],[0.2222222222222222,\"#7201a8\"],[0.3333333333333333,\"#9c179e\"],[0.4444444444444444,\"#bd3786\"],[0.5555555555555556,\"#d8576b\"],[0.6666666666666666,\"#ed7953\"],[0.7777777777777778,\"#fb9f3a\"],[0.8888888888888888,\"#fdca26\"],[1.0,\"#f0f921\"]],\"type\":\"surface\"}],\"table\":[{\"cells\":{\"fill\":{\"color\":\"#EBF0F8\"},\"line\":{\"color\":\"white\"}},\"header\":{\"fill\":{\"color\":\"#C8D4E3\"},\"line\":{\"color\":\"white\"}},\"type\":\"table\"}]},\"layout\":{\"annotationdefaults\":{\"arrowcolor\":\"#2a3f5f\",\"arrowhead\":0,\"arrowwidth\":1},\"autotypenumbers\":\"strict\",\"coloraxis\":{\"colorbar\":{\"outlinewidth\":0,\"ticks\":\"\"}},\"colorscale\":{\"diverging\":[[0,\"#8e0152\"],[0.1,\"#c51b7d\"],[0.2,\"#de77ae\"],[0.3,\"#f1b6da\"],[0.4,\"#fde0ef\"],[0.5,\"#f7f7f7\"],[0.6,\"#e6f5d0\"],[0.7,\"#b8e186\"],[0.8,\"#7fbc41\"],[0.9,\"#4d9221\"],[1,\"#276419\"]],\"sequential\":[[0.0,\"#0d0887\"],[0.1111111111111111,\"#46039f\"],[0.2222222222222222,\"#7201a8\"],[0.3333333333333333,\"#9c179e\"],[0.4444444444444444,\"#bd3786\"],[0.5555555555555556,\"#d8576b\"],[0.6666666666666666,\"#ed7953\"],[0.7777777777777778,\"#fb9f3a\"],[0.8888888888888888,\"#fdca26\"],[1.0,\"#f0f921\"]],\"sequentialminus\":[[0.0,\"#0d0887\"],[0.1111111111111111,\"#46039f\"],[0.2222222222222222,\"#7201a8\"],[0.3333333333333333,\"#9c179e\"],[0.4444444444444444,\"#bd3786\"],[0.5555555555555556,\"#d8576b\"],[0.6666666666666666,\"#ed7953\"],[0.7777777777777778,\"#fb9f3a\"],[0.8888888888888888,\"#fdca26\"],[1.0,\"#f0f921\"]]},\"colorway\":[\"#636efa\",\"#EF553B\",\"#00cc96\",\"#ab63fa\",\"#FFA15A\",\"#19d3f3\",\"#FF6692\",\"#B6E880\",\"#FF97FF\",\"#FECB52\"],\"font\":{\"color\":\"#2a3f5f\"},\"geo\":{\"bgcolor\":\"white\",\"lakecolor\":\"white\",\"landcolor\":\"#E5ECF6\",\"showlakes\":true,\"showland\":true,\"subunitcolor\":\"white\"},\"hoverlabel\":{\"align\":\"left\"},\"hovermode\":\"closest\",\"mapbox\":{\"style\":\"light\"},\"paper_bgcolor\":\"white\",\"plot_bgcolor\":\"#E5ECF6\",\"polar\":{\"angularaxis\":{\"gridcolor\":\"white\",\"linecolor\":\"white\",\"ticks\":\"\"},\"bgcolor\":\"#E5ECF6\",\"radialaxis\":{\"gridcolor\":\"white\",\"linecolor\":\"white\",\"ticks\":\"\"}},\"scene\":{\"xaxis\":{\"backgroundcolor\":\"#E5ECF6\",\"gridcolor\":\"white\",\"gridwidth\":2,\"linecolor\":\"white\",\"showbackground\":true,\"ticks\":\"\",\"zerolinecolor\":\"white\"},\"yaxis\":{\"backgroundcolor\":\"#E5ECF6\",\"gridcolor\":\"white\",\"gridwidth\":2,\"linecolor\":\"white\",\"showbackground\":true,\"ticks\":\"\",\"zerolinecolor\":\"white\"},\"zaxis\":{\"backgroundcolor\":\"#E5ECF6\",\"gridcolor\":\"white\",\"gridwidth\":2,\"linecolor\":\"white\",\"showbackground\":true,\"ticks\":\"\",\"zerolinecolor\":\"white\"}},\"shapedefaults\":{\"line\":{\"color\":\"#2a3f5f\"}},\"ternary\":{\"aaxis\":{\"gridcolor\":\"white\",\"linecolor\":\"white\",\"ticks\":\"\"},\"baxis\":{\"gridcolor\":\"white\",\"linecolor\":\"white\",\"ticks\":\"\"},\"bgcolor\":\"#E5ECF6\",\"caxis\":{\"gridcolor\":\"white\",\"linecolor\":\"white\",\"ticks\":\"\"}},\"title\":{\"x\":0.05},\"xaxis\":{\"automargin\":true,\"gridcolor\":\"white\",\"linecolor\":\"white\",\"ticks\":\"\",\"title\":{\"standoff\":15},\"zerolinecolor\":\"white\",\"zerolinewidth\":2},\"yaxis\":{\"automargin\":true,\"gridcolor\":\"white\",\"linecolor\":\"white\",\"ticks\":\"\",\"title\":{\"standoff\":15},\"zerolinecolor\":\"white\",\"zerolinewidth\":2}}}},                        {\"responsive\": true}                    ).then(function(){\n",
              "                            \n",
              "var gd = document.getElementById('af97d52d-111a-4d62-a9a8-2609290de103');\n",
              "var x = new MutationObserver(function (mutations, observer) {{\n",
              "        var display = window.getComputedStyle(gd).display;\n",
              "        if (!display || display === 'none') {{\n",
              "            console.log([gd, 'removed!']);\n",
              "            Plotly.purge(gd);\n",
              "            observer.disconnect();\n",
              "        }}\n",
              "}});\n",
              "\n",
              "// Listen for the removal of the full notebook cells\n",
              "var notebookContainer = gd.closest('#notebook-container');\n",
              "if (notebookContainer) {{\n",
              "    x.observe(notebookContainer, {childList: true});\n",
              "}}\n",
              "\n",
              "// Listen for the clearing of the current output cell\n",
              "var outputEl = gd.closest('.output');\n",
              "if (outputEl) {{\n",
              "    x.observe(outputEl, {childList: true});\n",
              "}}\n",
              "\n",
              "                        })                };                            </script>        </div>\n",
              "</body>\n",
              "</html>"
            ]
          },
          "metadata": {},
          "output_type": "display_data"
        }
      ],
      "source": [
        "# 平均電力実績を表示するグラフを作成\n",
        "trace1 = go.Bar(\n",
        "            x=epp[\"DATE\"],\n",
        "            y=epp[\"平均電力実績(万kW)\"],\n",
        "            name =\"電力実績可視化グラフ\"\n",
        "       )\n",
        "\n",
        "data=[trace1]\n",
        "go.Figure(data).show()"
      ]
    },
    {
      "cell_type": "markdown",
      "metadata": {
        "id": "caJ60p5UlXba"
      },
      "source": [
        "2019年から2020年の平均気温をグラフ化する"
      ]
    },
    {
      "cell_type": "code",
      "execution_count": null,
      "metadata": {
        "colab": {
          "base_uri": "https://localhost:8080/",
          "height": 706
        },
        "id": "rs7tQ1uMnc5v",
        "outputId": "245923e1-0a56-42ac-9788-082182c0fc14"
      },
      "outputs": [
        {
          "name": "stderr",
          "output_type": "stream",
          "text": [
            "/usr/local/lib/python3.7/dist-packages/plotly/graph_objs/_deprecations.py:385: DeprecationWarning:\n",
            "\n",
            "plotly.graph_objs.Line is deprecated.\n",
            "Please replace it with one of the following more specific types\n",
            "  - plotly.graph_objs.scatter.Line\n",
            "  - plotly.graph_objs.layout.shape.Line\n",
            "  - etc.\n",
            "\n",
            "\n"
          ]
        },
        {
          "data": {
            "text/html": [
              "<html>\n",
              "<head><meta charset=\"utf-8\" /></head>\n",
              "<body>\n",
              "    <div>            <script src=\"https://cdnjs.cloudflare.com/ajax/libs/mathjax/2.7.5/MathJax.js?config=TeX-AMS-MML_SVG\"></script><script type=\"text/javascript\">if (window.MathJax) {MathJax.Hub.Config({SVG: {font: \"STIX-Web\"}});}</script>                <script type=\"text/javascript\">window.PlotlyConfig = {MathJaxConfig: 'local'};</script>\n",
              "        <script src=\"https://cdn.plot.ly/plotly-2.4.2.min.js\"></script>                <div id=\"6f79284b-68e2-4a89-84e5-176b1882201e\" class=\"plotly-graph-div\" style=\"height:525px; width:100%;\"></div>            <script type=\"text/javascript\">                                    window.PLOTLYENV=window.PLOTLYENV || {};                                    if (document.getElementById(\"6f79284b-68e2-4a89-84e5-176b1882201e\")) {                    Plotly.newPlot(                        \"6f79284b-68e2-4a89-84e5-176b1882201e\",                        [{\"name\":\"\\u5e73\\u5747\\u6c17\\u6e29\\u53ef\\u8996\\u5316\\u30b0\\u30e9\\u30d5\",\"type\":\"scatter\",\"x\":[\"2019/1\",\"2019/2\",\"2019/3\",\"2019/4\",\"2019/5\",\"2019/6\",\"2019/7\",\"2019/8\",\"2019/9\",\"2019/10\",\"2019/11\",\"2019/12\",\"2020/1\",\"2020/2\",\"2020/3\",\"2020/4\",\"2020/5\",\"2020/6\",\"2020/7\",\"2020/8\",\"2020/9\",\"2020/10\",\"2020/11\",\"2020/12\"],\"y\":[5.6,7.2,10.6,13.6,20.0,21.8,24.1,28.4,25.1,19.4,13.1,8.5,7.1,8.3,10.7,12.8,19.5,23.2,24.3,29.1,24.2,17.5,14.0,7.7]}],                        {\"template\":{\"data\":{\"bar\":[{\"error_x\":{\"color\":\"#2a3f5f\"},\"error_y\":{\"color\":\"#2a3f5f\"},\"marker\":{\"line\":{\"color\":\"#E5ECF6\",\"width\":0.5},\"pattern\":{\"fillmode\":\"overlay\",\"size\":10,\"solidity\":0.2}},\"type\":\"bar\"}],\"barpolar\":[{\"marker\":{\"line\":{\"color\":\"#E5ECF6\",\"width\":0.5},\"pattern\":{\"fillmode\":\"overlay\",\"size\":10,\"solidity\":0.2}},\"type\":\"barpolar\"}],\"carpet\":[{\"aaxis\":{\"endlinecolor\":\"#2a3f5f\",\"gridcolor\":\"white\",\"linecolor\":\"white\",\"minorgridcolor\":\"white\",\"startlinecolor\":\"#2a3f5f\"},\"baxis\":{\"endlinecolor\":\"#2a3f5f\",\"gridcolor\":\"white\",\"linecolor\":\"white\",\"minorgridcolor\":\"white\",\"startlinecolor\":\"#2a3f5f\"},\"type\":\"carpet\"}],\"choropleth\":[{\"colorbar\":{\"outlinewidth\":0,\"ticks\":\"\"},\"type\":\"choropleth\"}],\"contour\":[{\"colorbar\":{\"outlinewidth\":0,\"ticks\":\"\"},\"colorscale\":[[0.0,\"#0d0887\"],[0.1111111111111111,\"#46039f\"],[0.2222222222222222,\"#7201a8\"],[0.3333333333333333,\"#9c179e\"],[0.4444444444444444,\"#bd3786\"],[0.5555555555555556,\"#d8576b\"],[0.6666666666666666,\"#ed7953\"],[0.7777777777777778,\"#fb9f3a\"],[0.8888888888888888,\"#fdca26\"],[1.0,\"#f0f921\"]],\"type\":\"contour\"}],\"contourcarpet\":[{\"colorbar\":{\"outlinewidth\":0,\"ticks\":\"\"},\"type\":\"contourcarpet\"}],\"heatmap\":[{\"colorbar\":{\"outlinewidth\":0,\"ticks\":\"\"},\"colorscale\":[[0.0,\"#0d0887\"],[0.1111111111111111,\"#46039f\"],[0.2222222222222222,\"#7201a8\"],[0.3333333333333333,\"#9c179e\"],[0.4444444444444444,\"#bd3786\"],[0.5555555555555556,\"#d8576b\"],[0.6666666666666666,\"#ed7953\"],[0.7777777777777778,\"#fb9f3a\"],[0.8888888888888888,\"#fdca26\"],[1.0,\"#f0f921\"]],\"type\":\"heatmap\"}],\"heatmapgl\":[{\"colorbar\":{\"outlinewidth\":0,\"ticks\":\"\"},\"colorscale\":[[0.0,\"#0d0887\"],[0.1111111111111111,\"#46039f\"],[0.2222222222222222,\"#7201a8\"],[0.3333333333333333,\"#9c179e\"],[0.4444444444444444,\"#bd3786\"],[0.5555555555555556,\"#d8576b\"],[0.6666666666666666,\"#ed7953\"],[0.7777777777777778,\"#fb9f3a\"],[0.8888888888888888,\"#fdca26\"],[1.0,\"#f0f921\"]],\"type\":\"heatmapgl\"}],\"histogram\":[{\"marker\":{\"pattern\":{\"fillmode\":\"overlay\",\"size\":10,\"solidity\":0.2}},\"type\":\"histogram\"}],\"histogram2d\":[{\"colorbar\":{\"outlinewidth\":0,\"ticks\":\"\"},\"colorscale\":[[0.0,\"#0d0887\"],[0.1111111111111111,\"#46039f\"],[0.2222222222222222,\"#7201a8\"],[0.3333333333333333,\"#9c179e\"],[0.4444444444444444,\"#bd3786\"],[0.5555555555555556,\"#d8576b\"],[0.6666666666666666,\"#ed7953\"],[0.7777777777777778,\"#fb9f3a\"],[0.8888888888888888,\"#fdca26\"],[1.0,\"#f0f921\"]],\"type\":\"histogram2d\"}],\"histogram2dcontour\":[{\"colorbar\":{\"outlinewidth\":0,\"ticks\":\"\"},\"colorscale\":[[0.0,\"#0d0887\"],[0.1111111111111111,\"#46039f\"],[0.2222222222222222,\"#7201a8\"],[0.3333333333333333,\"#9c179e\"],[0.4444444444444444,\"#bd3786\"],[0.5555555555555556,\"#d8576b\"],[0.6666666666666666,\"#ed7953\"],[0.7777777777777778,\"#fb9f3a\"],[0.8888888888888888,\"#fdca26\"],[1.0,\"#f0f921\"]],\"type\":\"histogram2dcontour\"}],\"mesh3d\":[{\"colorbar\":{\"outlinewidth\":0,\"ticks\":\"\"},\"type\":\"mesh3d\"}],\"parcoords\":[{\"line\":{\"colorbar\":{\"outlinewidth\":0,\"ticks\":\"\"}},\"type\":\"parcoords\"}],\"pie\":[{\"automargin\":true,\"type\":\"pie\"}],\"scatter\":[{\"marker\":{\"colorbar\":{\"outlinewidth\":0,\"ticks\":\"\"}},\"type\":\"scatter\"}],\"scatter3d\":[{\"line\":{\"colorbar\":{\"outlinewidth\":0,\"ticks\":\"\"}},\"marker\":{\"colorbar\":{\"outlinewidth\":0,\"ticks\":\"\"}},\"type\":\"scatter3d\"}],\"scattercarpet\":[{\"marker\":{\"colorbar\":{\"outlinewidth\":0,\"ticks\":\"\"}},\"type\":\"scattercarpet\"}],\"scattergeo\":[{\"marker\":{\"colorbar\":{\"outlinewidth\":0,\"ticks\":\"\"}},\"type\":\"scattergeo\"}],\"scattergl\":[{\"marker\":{\"colorbar\":{\"outlinewidth\":0,\"ticks\":\"\"}},\"type\":\"scattergl\"}],\"scattermapbox\":[{\"marker\":{\"colorbar\":{\"outlinewidth\":0,\"ticks\":\"\"}},\"type\":\"scattermapbox\"}],\"scatterpolar\":[{\"marker\":{\"colorbar\":{\"outlinewidth\":0,\"ticks\":\"\"}},\"type\":\"scatterpolar\"}],\"scatterpolargl\":[{\"marker\":{\"colorbar\":{\"outlinewidth\":0,\"ticks\":\"\"}},\"type\":\"scatterpolargl\"}],\"scatterternary\":[{\"marker\":{\"colorbar\":{\"outlinewidth\":0,\"ticks\":\"\"}},\"type\":\"scatterternary\"}],\"surface\":[{\"colorbar\":{\"outlinewidth\":0,\"ticks\":\"\"},\"colorscale\":[[0.0,\"#0d0887\"],[0.1111111111111111,\"#46039f\"],[0.2222222222222222,\"#7201a8\"],[0.3333333333333333,\"#9c179e\"],[0.4444444444444444,\"#bd3786\"],[0.5555555555555556,\"#d8576b\"],[0.6666666666666666,\"#ed7953\"],[0.7777777777777778,\"#fb9f3a\"],[0.8888888888888888,\"#fdca26\"],[1.0,\"#f0f921\"]],\"type\":\"surface\"}],\"table\":[{\"cells\":{\"fill\":{\"color\":\"#EBF0F8\"},\"line\":{\"color\":\"white\"}},\"header\":{\"fill\":{\"color\":\"#C8D4E3\"},\"line\":{\"color\":\"white\"}},\"type\":\"table\"}]},\"layout\":{\"annotationdefaults\":{\"arrowcolor\":\"#2a3f5f\",\"arrowhead\":0,\"arrowwidth\":1},\"autotypenumbers\":\"strict\",\"coloraxis\":{\"colorbar\":{\"outlinewidth\":0,\"ticks\":\"\"}},\"colorscale\":{\"diverging\":[[0,\"#8e0152\"],[0.1,\"#c51b7d\"],[0.2,\"#de77ae\"],[0.3,\"#f1b6da\"],[0.4,\"#fde0ef\"],[0.5,\"#f7f7f7\"],[0.6,\"#e6f5d0\"],[0.7,\"#b8e186\"],[0.8,\"#7fbc41\"],[0.9,\"#4d9221\"],[1,\"#276419\"]],\"sequential\":[[0.0,\"#0d0887\"],[0.1111111111111111,\"#46039f\"],[0.2222222222222222,\"#7201a8\"],[0.3333333333333333,\"#9c179e\"],[0.4444444444444444,\"#bd3786\"],[0.5555555555555556,\"#d8576b\"],[0.6666666666666666,\"#ed7953\"],[0.7777777777777778,\"#fb9f3a\"],[0.8888888888888888,\"#fdca26\"],[1.0,\"#f0f921\"]],\"sequentialminus\":[[0.0,\"#0d0887\"],[0.1111111111111111,\"#46039f\"],[0.2222222222222222,\"#7201a8\"],[0.3333333333333333,\"#9c179e\"],[0.4444444444444444,\"#bd3786\"],[0.5555555555555556,\"#d8576b\"],[0.6666666666666666,\"#ed7953\"],[0.7777777777777778,\"#fb9f3a\"],[0.8888888888888888,\"#fdca26\"],[1.0,\"#f0f921\"]]},\"colorway\":[\"#636efa\",\"#EF553B\",\"#00cc96\",\"#ab63fa\",\"#FFA15A\",\"#19d3f3\",\"#FF6692\",\"#B6E880\",\"#FF97FF\",\"#FECB52\"],\"font\":{\"color\":\"#2a3f5f\"},\"geo\":{\"bgcolor\":\"white\",\"lakecolor\":\"white\",\"landcolor\":\"#E5ECF6\",\"showlakes\":true,\"showland\":true,\"subunitcolor\":\"white\"},\"hoverlabel\":{\"align\":\"left\"},\"hovermode\":\"closest\",\"mapbox\":{\"style\":\"light\"},\"paper_bgcolor\":\"white\",\"plot_bgcolor\":\"#E5ECF6\",\"polar\":{\"angularaxis\":{\"gridcolor\":\"white\",\"linecolor\":\"white\",\"ticks\":\"\"},\"bgcolor\":\"#E5ECF6\",\"radialaxis\":{\"gridcolor\":\"white\",\"linecolor\":\"white\",\"ticks\":\"\"}},\"scene\":{\"xaxis\":{\"backgroundcolor\":\"#E5ECF6\",\"gridcolor\":\"white\",\"gridwidth\":2,\"linecolor\":\"white\",\"showbackground\":true,\"ticks\":\"\",\"zerolinecolor\":\"white\"},\"yaxis\":{\"backgroundcolor\":\"#E5ECF6\",\"gridcolor\":\"white\",\"gridwidth\":2,\"linecolor\":\"white\",\"showbackground\":true,\"ticks\":\"\",\"zerolinecolor\":\"white\"},\"zaxis\":{\"backgroundcolor\":\"#E5ECF6\",\"gridcolor\":\"white\",\"gridwidth\":2,\"linecolor\":\"white\",\"showbackground\":true,\"ticks\":\"\",\"zerolinecolor\":\"white\"}},\"shapedefaults\":{\"line\":{\"color\":\"#2a3f5f\"}},\"ternary\":{\"aaxis\":{\"gridcolor\":\"white\",\"linecolor\":\"white\",\"ticks\":\"\"},\"baxis\":{\"gridcolor\":\"white\",\"linecolor\":\"white\",\"ticks\":\"\"},\"bgcolor\":\"#E5ECF6\",\"caxis\":{\"gridcolor\":\"white\",\"linecolor\":\"white\",\"ticks\":\"\"}},\"title\":{\"x\":0.05},\"xaxis\":{\"automargin\":true,\"gridcolor\":\"white\",\"linecolor\":\"white\",\"ticks\":\"\",\"title\":{\"standoff\":15},\"zerolinecolor\":\"white\",\"zerolinewidth\":2},\"yaxis\":{\"automargin\":true,\"gridcolor\":\"white\",\"linecolor\":\"white\",\"ticks\":\"\",\"title\":{\"standoff\":15},\"zerolinecolor\":\"white\",\"zerolinewidth\":2}}}},                        {\"responsive\": true}                    ).then(function(){\n",
              "                            \n",
              "var gd = document.getElementById('6f79284b-68e2-4a89-84e5-176b1882201e');\n",
              "var x = new MutationObserver(function (mutations, observer) {{\n",
              "        var display = window.getComputedStyle(gd).display;\n",
              "        if (!display || display === 'none') {{\n",
              "            console.log([gd, 'removed!']);\n",
              "            Plotly.purge(gd);\n",
              "            observer.disconnect();\n",
              "        }}\n",
              "}});\n",
              "\n",
              "// Listen for the removal of the full notebook cells\n",
              "var notebookContainer = gd.closest('#notebook-container');\n",
              "if (notebookContainer) {{\n",
              "    x.observe(notebookContainer, {childList: true});\n",
              "}}\n",
              "\n",
              "// Listen for the clearing of the current output cell\n",
              "var outputEl = gd.closest('.output');\n",
              "if (outputEl) {{\n",
              "    x.observe(outputEl, {childList: true});\n",
              "}}\n",
              "\n",
              "                        })                };                            </script>        </div>\n",
              "</body>\n",
              "</html>"
            ]
          },
          "metadata": {},
          "output_type": "display_data"
        }
      ],
      "source": [
        "data = pd.read_csv('data.csv', encoding=\"shift-jis\", header=2)\n",
        "temp = data.loc[1:,[\"年月\", \"平均気温(℃)\"]]\n",
        "\n",
        "trace2 = go.Line(\n",
        "            x=temp[\"年月\"],\n",
        "            y=temp[\"平均気温(℃)\"],\n",
        "            name =\"平均気温可視化グラフ\"\n",
        "       )\n",
        "data=[trace2]\n",
        "\n",
        "go.Figure(data).show()"
      ]
    },
    {
      "cell_type": "markdown",
      "metadata": {
        "id": "eP0Wz0JZlvbj"
      },
      "source": [
        "平均気温のグラフと電力実績のグラフをマージする"
      ]
    },
    {
      "cell_type": "code",
      "execution_count": null,
      "metadata": {
        "colab": {
          "base_uri": "https://localhost:8080/"
        },
        "id": "5azkdPDqltWz",
        "outputId": "9d4fd9e8-7bac-46f9-c12c-cb871a3e3eb0"
      },
      "outputs": [
        {
          "name": "stdout",
          "output_type": "stream",
          "text": [
            "<class 'pandas.core.frame.DataFrame'>\n",
            "Int64Index: 24 entries, 0 to 23\n",
            "Data columns (total 3 columns):\n",
            " #   Column       Non-Null Count  Dtype  \n",
            "---  ------       --------------  -----  \n",
            " 0   年月           24 non-null     object \n",
            " 1   平均電力実績(万kW)  24 non-null     float64\n",
            " 2   平均気温(℃)      24 non-null     float64\n",
            "dtypes: float64(2), object(1)\n",
            "memory usage: 768.0+ bytes\n",
            "         年月  平均電力実績(万kW)  平均気温(℃)\n",
            "0    2019/1  4273.967742      5.6\n",
            "1    2019/2  4191.500000      7.2\n",
            "2    2019/3  3672.741935     10.6\n",
            "3    2019/4  3400.566667     13.6\n",
            "4    2019/5  3286.354839     20.0\n",
            "5    2019/6  3552.466667     21.8\n",
            "6    2019/7  3978.064516     24.1\n",
            "7    2019/8  4571.774194     28.4\n",
            "8    2019/9  4076.933333     25.1\n",
            "9   2019/10  3469.580645     19.4\n",
            "10  2019/11  3535.333333     13.1\n",
            "11  2019/12  3986.161290      8.5\n",
            "12   2020/1  4119.903226      7.1\n",
            "13   2020/2  3989.931034      8.3\n",
            "14   2020/3  3671.354839     10.7\n",
            "15   2020/4  3272.400000     12.8\n",
            "16   2020/5  2971.774194     19.5\n",
            "17   2020/6  3618.133333     23.2\n",
            "18   2020/7  3794.258065     24.3\n",
            "19   2020/8  4788.548387     29.1\n",
            "20   2020/9  4026.266667     24.2\n",
            "21  2020/10  3331.516129     17.5\n",
            "22  2020/11  3462.233333     14.0\n",
            "23  2020/12  4117.774194      7.7\n"
          ]
        }
      ],
      "source": [
        "epp.rename(columns={\"DATE\": \"年月\"},\n",
        "          inplace=True)\n",
        "df = pd.merge(epp, temp, on=\"年月\")\n",
        "df.info()\n",
        "print(df)"
      ]
    },
    {
      "cell_type": "markdown",
      "metadata": {
        "id": "NEsI1klMnWDP"
      },
      "source": [
        "東京の電力実績と平均気温の関係を表すグラフを作成する"
      ]
    },
    {
      "cell_type": "code",
      "execution_count": null,
      "metadata": {
        "id": "zFUWxj_4YzfT"
      },
      "outputs": [],
      "source": [
        "jp_font = {'fontname':'IPAGothic'} # 日本語フォント設定を作成"
      ]
    },
    {
      "cell_type": "code",
      "execution_count": null,
      "metadata": {
        "colab": {
          "base_uri": "https://localhost:8080/",
          "height": 706
        },
        "id": "SXB__WDIp_RE",
        "outputId": "508b05fc-0db0-4504-f58a-785924936eb4"
      },
      "outputs": [
        {
          "name": "stderr",
          "output_type": "stream",
          "text": [
            "/usr/local/lib/python3.7/dist-packages/plotly/graph_objs/_deprecations.py:385: DeprecationWarning:\n",
            "\n",
            "plotly.graph_objs.Line is deprecated.\n",
            "Please replace it with one of the following more specific types\n",
            "  - plotly.graph_objs.scatter.Line\n",
            "  - plotly.graph_objs.layout.shape.Line\n",
            "  - etc.\n",
            "\n",
            "\n"
          ]
        },
        {
          "data": {
            "text/html": [
              "<html>\n",
              "<head><meta charset=\"utf-8\" /></head>\n",
              "<body>\n",
              "    <div>            <script src=\"https://cdnjs.cloudflare.com/ajax/libs/mathjax/2.7.5/MathJax.js?config=TeX-AMS-MML_SVG\"></script><script type=\"text/javascript\">if (window.MathJax) {MathJax.Hub.Config({SVG: {font: \"STIX-Web\"}});}</script>                <script type=\"text/javascript\">window.PlotlyConfig = {MathJaxConfig: 'local'};</script>\n",
              "        <script src=\"https://cdn.plot.ly/plotly-2.4.2.min.js\"></script>                <div id=\"3c6fb1db-9497-41d2-a501-0861ff52a7a0\" class=\"plotly-graph-div\" style=\"height:525px; width:100%;\"></div>            <script type=\"text/javascript\">                                    window.PLOTLYENV=window.PLOTLYENV || {};                                    if (document.getElementById(\"3c6fb1db-9497-41d2-a501-0861ff52a7a0\")) {                    Plotly.newPlot(                        \"3c6fb1db-9497-41d2-a501-0861ff52a7a0\",                        [{\"name\":\"\\u96fb\\u529b\\u5b9f\\u7e3e(\\u4e07kW)\",\"type\":\"bar\",\"x\":[\"2019/1\",\"2019/2\",\"2019/3\",\"2019/4\",\"2019/5\",\"2019/6\",\"2019/7\",\"2019/8\",\"2019/9\",\"2019/10\",\"2019/11\",\"2019/12\",\"2020/1\",\"2020/2\",\"2020/3\",\"2020/4\",\"2020/5\",\"2020/6\",\"2020/7\",\"2020/8\",\"2020/9\",\"2020/10\",\"2020/11\",\"2020/12\"],\"y\":[4273.967741935484,4191.5,3672.7419354838707,3400.5666666666666,3286.3548387096776,3552.4666666666667,3978.064516129032,4571.774193548387,4076.9333333333334,3469.5806451612902,3535.3333333333335,3986.1612903225805,4119.903225806452,3989.9310344827586,3671.3548387096776,3272.4,2971.7741935483873,3618.133333333333,3794.2580645161293,4788.548387096775,4026.266666666667,3331.516129032258,3462.233333333333,4117.774193548387]},{\"name\":\"\\u5e73\\u5747\\u6c17\\u6e29\",\"type\":\"scatter\",\"x\":[\"2019/1\",\"2019/2\",\"2019/3\",\"2019/4\",\"2019/5\",\"2019/6\",\"2019/7\",\"2019/8\",\"2019/9\",\"2019/10\",\"2019/11\",\"2019/12\",\"2020/1\",\"2020/2\",\"2020/3\",\"2020/4\",\"2020/5\",\"2020/6\",\"2020/7\",\"2020/8\",\"2020/9\",\"2020/10\",\"2020/11\",\"2020/12\"],\"xaxis\":\"x\",\"y\":[5.6,7.2,10.6,13.6,20.0,21.8,24.1,28.4,25.1,19.4,13.1,8.5,7.1,8.3,10.7,12.8,19.5,23.2,24.3,29.1,24.2,17.5,14.0,7.7],\"yaxis\":\"y2\"}],                        {\"template\":{\"data\":{\"bar\":[{\"error_x\":{\"color\":\"#2a3f5f\"},\"error_y\":{\"color\":\"#2a3f5f\"},\"marker\":{\"line\":{\"color\":\"#E5ECF6\",\"width\":0.5},\"pattern\":{\"fillmode\":\"overlay\",\"size\":10,\"solidity\":0.2}},\"type\":\"bar\"}],\"barpolar\":[{\"marker\":{\"line\":{\"color\":\"#E5ECF6\",\"width\":0.5},\"pattern\":{\"fillmode\":\"overlay\",\"size\":10,\"solidity\":0.2}},\"type\":\"barpolar\"}],\"carpet\":[{\"aaxis\":{\"endlinecolor\":\"#2a3f5f\",\"gridcolor\":\"white\",\"linecolor\":\"white\",\"minorgridcolor\":\"white\",\"startlinecolor\":\"#2a3f5f\"},\"baxis\":{\"endlinecolor\":\"#2a3f5f\",\"gridcolor\":\"white\",\"linecolor\":\"white\",\"minorgridcolor\":\"white\",\"startlinecolor\":\"#2a3f5f\"},\"type\":\"carpet\"}],\"choropleth\":[{\"colorbar\":{\"outlinewidth\":0,\"ticks\":\"\"},\"type\":\"choropleth\"}],\"contour\":[{\"colorbar\":{\"outlinewidth\":0,\"ticks\":\"\"},\"colorscale\":[[0.0,\"#0d0887\"],[0.1111111111111111,\"#46039f\"],[0.2222222222222222,\"#7201a8\"],[0.3333333333333333,\"#9c179e\"],[0.4444444444444444,\"#bd3786\"],[0.5555555555555556,\"#d8576b\"],[0.6666666666666666,\"#ed7953\"],[0.7777777777777778,\"#fb9f3a\"],[0.8888888888888888,\"#fdca26\"],[1.0,\"#f0f921\"]],\"type\":\"contour\"}],\"contourcarpet\":[{\"colorbar\":{\"outlinewidth\":0,\"ticks\":\"\"},\"type\":\"contourcarpet\"}],\"heatmap\":[{\"colorbar\":{\"outlinewidth\":0,\"ticks\":\"\"},\"colorscale\":[[0.0,\"#0d0887\"],[0.1111111111111111,\"#46039f\"],[0.2222222222222222,\"#7201a8\"],[0.3333333333333333,\"#9c179e\"],[0.4444444444444444,\"#bd3786\"],[0.5555555555555556,\"#d8576b\"],[0.6666666666666666,\"#ed7953\"],[0.7777777777777778,\"#fb9f3a\"],[0.8888888888888888,\"#fdca26\"],[1.0,\"#f0f921\"]],\"type\":\"heatmap\"}],\"heatmapgl\":[{\"colorbar\":{\"outlinewidth\":0,\"ticks\":\"\"},\"colorscale\":[[0.0,\"#0d0887\"],[0.1111111111111111,\"#46039f\"],[0.2222222222222222,\"#7201a8\"],[0.3333333333333333,\"#9c179e\"],[0.4444444444444444,\"#bd3786\"],[0.5555555555555556,\"#d8576b\"],[0.6666666666666666,\"#ed7953\"],[0.7777777777777778,\"#fb9f3a\"],[0.8888888888888888,\"#fdca26\"],[1.0,\"#f0f921\"]],\"type\":\"heatmapgl\"}],\"histogram\":[{\"marker\":{\"pattern\":{\"fillmode\":\"overlay\",\"size\":10,\"solidity\":0.2}},\"type\":\"histogram\"}],\"histogram2d\":[{\"colorbar\":{\"outlinewidth\":0,\"ticks\":\"\"},\"colorscale\":[[0.0,\"#0d0887\"],[0.1111111111111111,\"#46039f\"],[0.2222222222222222,\"#7201a8\"],[0.3333333333333333,\"#9c179e\"],[0.4444444444444444,\"#bd3786\"],[0.5555555555555556,\"#d8576b\"],[0.6666666666666666,\"#ed7953\"],[0.7777777777777778,\"#fb9f3a\"],[0.8888888888888888,\"#fdca26\"],[1.0,\"#f0f921\"]],\"type\":\"histogram2d\"}],\"histogram2dcontour\":[{\"colorbar\":{\"outlinewidth\":0,\"ticks\":\"\"},\"colorscale\":[[0.0,\"#0d0887\"],[0.1111111111111111,\"#46039f\"],[0.2222222222222222,\"#7201a8\"],[0.3333333333333333,\"#9c179e\"],[0.4444444444444444,\"#bd3786\"],[0.5555555555555556,\"#d8576b\"],[0.6666666666666666,\"#ed7953\"],[0.7777777777777778,\"#fb9f3a\"],[0.8888888888888888,\"#fdca26\"],[1.0,\"#f0f921\"]],\"type\":\"histogram2dcontour\"}],\"mesh3d\":[{\"colorbar\":{\"outlinewidth\":0,\"ticks\":\"\"},\"type\":\"mesh3d\"}],\"parcoords\":[{\"line\":{\"colorbar\":{\"outlinewidth\":0,\"ticks\":\"\"}},\"type\":\"parcoords\"}],\"pie\":[{\"automargin\":true,\"type\":\"pie\"}],\"scatter\":[{\"marker\":{\"colorbar\":{\"outlinewidth\":0,\"ticks\":\"\"}},\"type\":\"scatter\"}],\"scatter3d\":[{\"line\":{\"colorbar\":{\"outlinewidth\":0,\"ticks\":\"\"}},\"marker\":{\"colorbar\":{\"outlinewidth\":0,\"ticks\":\"\"}},\"type\":\"scatter3d\"}],\"scattercarpet\":[{\"marker\":{\"colorbar\":{\"outlinewidth\":0,\"ticks\":\"\"}},\"type\":\"scattercarpet\"}],\"scattergeo\":[{\"marker\":{\"colorbar\":{\"outlinewidth\":0,\"ticks\":\"\"}},\"type\":\"scattergeo\"}],\"scattergl\":[{\"marker\":{\"colorbar\":{\"outlinewidth\":0,\"ticks\":\"\"}},\"type\":\"scattergl\"}],\"scattermapbox\":[{\"marker\":{\"colorbar\":{\"outlinewidth\":0,\"ticks\":\"\"}},\"type\":\"scattermapbox\"}],\"scatterpolar\":[{\"marker\":{\"colorbar\":{\"outlinewidth\":0,\"ticks\":\"\"}},\"type\":\"scatterpolar\"}],\"scatterpolargl\":[{\"marker\":{\"colorbar\":{\"outlinewidth\":0,\"ticks\":\"\"}},\"type\":\"scatterpolargl\"}],\"scatterternary\":[{\"marker\":{\"colorbar\":{\"outlinewidth\":0,\"ticks\":\"\"}},\"type\":\"scatterternary\"}],\"surface\":[{\"colorbar\":{\"outlinewidth\":0,\"ticks\":\"\"},\"colorscale\":[[0.0,\"#0d0887\"],[0.1111111111111111,\"#46039f\"],[0.2222222222222222,\"#7201a8\"],[0.3333333333333333,\"#9c179e\"],[0.4444444444444444,\"#bd3786\"],[0.5555555555555556,\"#d8576b\"],[0.6666666666666666,\"#ed7953\"],[0.7777777777777778,\"#fb9f3a\"],[0.8888888888888888,\"#fdca26\"],[1.0,\"#f0f921\"]],\"type\":\"surface\"}],\"table\":[{\"cells\":{\"fill\":{\"color\":\"#EBF0F8\"},\"line\":{\"color\":\"white\"}},\"header\":{\"fill\":{\"color\":\"#C8D4E3\"},\"line\":{\"color\":\"white\"}},\"type\":\"table\"}]},\"layout\":{\"annotationdefaults\":{\"arrowcolor\":\"#2a3f5f\",\"arrowhead\":0,\"arrowwidth\":1},\"autotypenumbers\":\"strict\",\"coloraxis\":{\"colorbar\":{\"outlinewidth\":0,\"ticks\":\"\"}},\"colorscale\":{\"diverging\":[[0,\"#8e0152\"],[0.1,\"#c51b7d\"],[0.2,\"#de77ae\"],[0.3,\"#f1b6da\"],[0.4,\"#fde0ef\"],[0.5,\"#f7f7f7\"],[0.6,\"#e6f5d0\"],[0.7,\"#b8e186\"],[0.8,\"#7fbc41\"],[0.9,\"#4d9221\"],[1,\"#276419\"]],\"sequential\":[[0.0,\"#0d0887\"],[0.1111111111111111,\"#46039f\"],[0.2222222222222222,\"#7201a8\"],[0.3333333333333333,\"#9c179e\"],[0.4444444444444444,\"#bd3786\"],[0.5555555555555556,\"#d8576b\"],[0.6666666666666666,\"#ed7953\"],[0.7777777777777778,\"#fb9f3a\"],[0.8888888888888888,\"#fdca26\"],[1.0,\"#f0f921\"]],\"sequentialminus\":[[0.0,\"#0d0887\"],[0.1111111111111111,\"#46039f\"],[0.2222222222222222,\"#7201a8\"],[0.3333333333333333,\"#9c179e\"],[0.4444444444444444,\"#bd3786\"],[0.5555555555555556,\"#d8576b\"],[0.6666666666666666,\"#ed7953\"],[0.7777777777777778,\"#fb9f3a\"],[0.8888888888888888,\"#fdca26\"],[1.0,\"#f0f921\"]]},\"colorway\":[\"#636efa\",\"#EF553B\",\"#00cc96\",\"#ab63fa\",\"#FFA15A\",\"#19d3f3\",\"#FF6692\",\"#B6E880\",\"#FF97FF\",\"#FECB52\"],\"font\":{\"color\":\"#2a3f5f\"},\"geo\":{\"bgcolor\":\"white\",\"lakecolor\":\"white\",\"landcolor\":\"#E5ECF6\",\"showlakes\":true,\"showland\":true,\"subunitcolor\":\"white\"},\"hoverlabel\":{\"align\":\"left\"},\"hovermode\":\"closest\",\"mapbox\":{\"style\":\"light\"},\"paper_bgcolor\":\"white\",\"plot_bgcolor\":\"#E5ECF6\",\"polar\":{\"angularaxis\":{\"gridcolor\":\"white\",\"linecolor\":\"white\",\"ticks\":\"\"},\"bgcolor\":\"#E5ECF6\",\"radialaxis\":{\"gridcolor\":\"white\",\"linecolor\":\"white\",\"ticks\":\"\"}},\"scene\":{\"xaxis\":{\"backgroundcolor\":\"#E5ECF6\",\"gridcolor\":\"white\",\"gridwidth\":2,\"linecolor\":\"white\",\"showbackground\":true,\"ticks\":\"\",\"zerolinecolor\":\"white\"},\"yaxis\":{\"backgroundcolor\":\"#E5ECF6\",\"gridcolor\":\"white\",\"gridwidth\":2,\"linecolor\":\"white\",\"showbackground\":true,\"ticks\":\"\",\"zerolinecolor\":\"white\"},\"zaxis\":{\"backgroundcolor\":\"#E5ECF6\",\"gridcolor\":\"white\",\"gridwidth\":2,\"linecolor\":\"white\",\"showbackground\":true,\"ticks\":\"\",\"zerolinecolor\":\"white\"}},\"shapedefaults\":{\"line\":{\"color\":\"#2a3f5f\"}},\"ternary\":{\"aaxis\":{\"gridcolor\":\"white\",\"linecolor\":\"white\",\"ticks\":\"\"},\"baxis\":{\"gridcolor\":\"white\",\"linecolor\":\"white\",\"ticks\":\"\"},\"bgcolor\":\"#E5ECF6\",\"caxis\":{\"gridcolor\":\"white\",\"linecolor\":\"white\",\"ticks\":\"\"}},\"title\":{\"x\":0.05},\"xaxis\":{\"automargin\":true,\"gridcolor\":\"white\",\"linecolor\":\"white\",\"ticks\":\"\",\"title\":{\"standoff\":15},\"zerolinecolor\":\"white\",\"zerolinewidth\":2},\"yaxis\":{\"automargin\":true,\"gridcolor\":\"white\",\"linecolor\":\"white\",\"ticks\":\"\",\"title\":{\"standoff\":15},\"zerolinecolor\":\"white\",\"zerolinewidth\":2}}},\"xaxis\":{\"anchor\":\"y\",\"domain\":[0.0,0.94],\"title\":{\"text\":\"<b>\\u5e74\\u6708</b>\"}},\"yaxis\":{\"anchor\":\"x\",\"domain\":[0.0,1.0],\"title\":{\"text\":\"<b>\\u5e73\\u5747\\u96fb\\u529b\\u5b9f\\u7e3e(\\u4e07kW)</b>\"}},\"yaxis2\":{\"anchor\":\"x\",\"overlaying\":\"y\",\"side\":\"right\",\"title\":{\"text\":\"<b>\\u5e73\\u5747\\u6c17\\u6e29(\\u2103)</b>\"}}},                        {\"responsive\": true}                    ).then(function(){\n",
              "                            \n",
              "var gd = document.getElementById('3c6fb1db-9497-41d2-a501-0861ff52a7a0');\n",
              "var x = new MutationObserver(function (mutations, observer) {{\n",
              "        var display = window.getComputedStyle(gd).display;\n",
              "        if (!display || display === 'none') {{\n",
              "            console.log([gd, 'removed!']);\n",
              "            Plotly.purge(gd);\n",
              "            observer.disconnect();\n",
              "        }}\n",
              "}});\n",
              "\n",
              "// Listen for the removal of the full notebook cells\n",
              "var notebookContainer = gd.closest('#notebook-container');\n",
              "if (notebookContainer) {{\n",
              "    x.observe(notebookContainer, {childList: true});\n",
              "}}\n",
              "\n",
              "// Listen for the clearing of the current output cell\n",
              "var outputEl = gd.closest('.output');\n",
              "if (outputEl) {{\n",
              "    x.observe(outputEl, {childList: true});\n",
              "}}\n",
              "\n",
              "                        })                };                            </script>        </div>\n",
              "</body>\n",
              "</html>"
            ]
          },
          "metadata": {},
          "output_type": "display_data"
        }
      ],
      "source": [
        "import matplotlib.font_manager as font_manager\n",
        "\n",
        "# 2つ目の軸を表示するか否かを設定\n",
        "fig = make_subplots(specs=[[{\"secondary_y\": True}]])\n",
        "# 第一軸のグラフ\n",
        "fig.add_trace(go.Bar(\n",
        "            x=df[\"年月\"],\n",
        "            y=df[\"平均電力実績(万kW)\"],\n",
        "            name =\"電力実績(万kW)\"\n",
        "       ))\n",
        "# 第二軸のグラフ\n",
        "fig.add_trace(go.Line(\n",
        "            x=df[\"年月\"],\n",
        "            y=df[\"平均気温(℃)\"],\n",
        "            name =\"平均気温\"),\n",
        "       secondary_y=True)\n",
        "\n",
        "data = [trace1, trace2]\n",
        "\n",
        "layout = go.Layout(\n",
        "    title=\"東京の電力実績と平均気温の関係\"\n",
        ")\n",
        "fig.update_yaxes(title_text=\"<b>平均電力実績(万kW)</b>\", secondary_y=False)\n",
        "fig.update_yaxes(title_text=\"<b>平均気温(℃)</b>\", secondary_y=True)\n",
        "fig.update_xaxes(title=\"<b>年月</b>\")\n",
        "\n",
        "# このまま出力すると文字化けしてしまうので日本語のフォントを設定する\n",
        "font = font_manager.FontProperties(\n",
        "    family=\"IPAGothic\",\n",
        "    size=30\n",
        ")\n",
        "fig.show()"
      ]
    },
    {
      "cell_type": "markdown",
      "metadata": {
        "id": "_3iQyDRsl_tY"
      },
      "source": [
        "作成したグラフをPDFファイルに出力する"
      ]
    },
    {
      "cell_type": "code",
      "execution_count": null,
      "metadata": {
        "colab": {
          "base_uri": "https://localhost:8080/"
        },
        "id": "v1ciWSbaQYst",
        "outputId": "a89cc059-e9c6-4a7f-d7dc-7ddac37d404e"
      },
      "outputs": [
        {
          "name": "stdout",
          "output_type": "stream",
          "text": [
            "Drive already mounted at /content/drive; to attempt to forcibly remount, call drive.mount(\"/content/drive\", force_remount=True).\n"
          ]
        }
      ],
      "source": [
        "from google.colab import drive\n",
        "drive.mount('/content/drive')"
      ]
    },
    {
      "cell_type": "code",
      "execution_count": null,
      "metadata": {
        "id": "p0WbIF28SQZj"
      },
      "outputs": [],
      "source": [
        "fig.write_image(\"/content/drive/(置きたいディレクトリ)/東京の電力実績と平均気温の関係.pdf\")"
      ]
    },
    {
      "cell_type": "markdown",
      "metadata": {
        "id": "CiaQstdPdPUH"
      },
      "source": [
        "plotlyの利点は動的なグラフが作成できることにあるのでhtmlでも出力\n"
      ]
    },
    {
      "cell_type": "code",
      "execution_count": null,
      "metadata": {
        "colab": {
          "base_uri": "https://localhost:8080/"
        },
        "id": "yAp2HRTnw4iJ",
        "outputId": "79ffdc58-0994-462d-fbca-b6ff669ed17b"
      },
      "outputs": [],
      "source": [
        "plot(fig, filename=\"/content/drive/(置きたいディレクトリ)/東京の電力実績と平均気温の関係.html\", auto_open=False)"
      ]
    },
    {
      "cell_type": "code",
      "execution_count": null,
      "metadata": {
        "id": "WALZh-fKdZe4"
      },
      "outputs": [],
      "source": [
        "fig.write_html('/content/drive/(置きたいディレクトリ)/東京の電力実績と平均気温の関係.html')"
      ]
    }
  ],
  "metadata": {
    "colab": {
      "provenance": []
    },
    "kernelspec": {
      "display_name": "Python 3",
      "name": "python3"
    },
    "language_info": {
      "name": "python"
    }
  },
  "nbformat": 4,
  "nbformat_minor": 0
}
