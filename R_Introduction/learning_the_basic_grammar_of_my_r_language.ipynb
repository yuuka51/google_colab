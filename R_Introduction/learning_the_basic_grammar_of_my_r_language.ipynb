{
  "nbformat": 4,
  "nbformat_minor": 0,
  "metadata": {
    "colab": {
      "provenance": []
    },
    "kernelspec": {
      "name": "ir",
      "display_name": "R"
    },
    "language_info": {
      "name": "R"
    }
  },
  "cells": [
    {
      "cell_type": "markdown",
      "source": [
        "## R言語の特徴\n",
        " - 主な用途:統計分析\n",
        " - 分類:手続き型・関数型・オブジェクト指向/インタプリタ"
      ],
      "metadata": {
        "id": "Mk7umoqYFbo6"
      }
    },
    {
      "cell_type": "markdown",
      "source": [
        "\n",
        "## 基本文法:\n",
        "### 変数の割り当て:\n",
        "変数に値を割り当てるには、代入演算子 <- もしくは = を使用します。例えば、x <- 5 とすると変数 x に値 5 が割り当てられます。\n",
        "### コメント:\n",
        "コメントは#を使って記述します。#以降のテキストは無視されます。\n",
        "### 関数の呼び出し:\n",
        " 関数は関数名に引数をカッコで囲んで呼び出します。例えば、print(\"Hello, World!\") は文字列を出力する関数 print を呼び出しています。\n",
        "### 制御構文:\n",
        " 制御構文としては、条件分岐やループがあります。if-else 文や for ループ、while ループなどがあります。\n",
        "### ベクトル化演算:\n",
        " R言語ではベクトル化演算が可能であり、要素ごとの演算を行うことができます。例えば、c(1, 2, 3) + c(4, 5, 6) は c(5, 7, 9) を生成します。\n",
        "## データ構造:\n",
        "### ベクトル (Vector):\n",
        " ベクトルは単一のデータ型の要素の集合です。c() 関数を使って作成します。例えば、x <- c(1, 2, 3, 4, 5) は長さが5の数値ベクトルを生成します。\n",
        "### リスト (List):\n",
        " リストは異なるデータ型の要素の集合です。list() 関数を使って作成します。例えば、y <- list(1, \"a\", TRUE) は数値、文字列、論理値の要素を持つリストを生成します。\n",
        "### 行列 (Matrix):\n",
        " 行列は2次元のデータ構造で、全ての要素が同じデータ型である必要があります。matrix() 関数を使って作成します。\n",
        "### データフレーム (Data Frame):\n",
        " データフレームは異なるデータ型の列を持つ2次元のデータ構造です。data.frame() 関数を使って作成します。データフレームはデータ分析で最もよく使われるデータ構造の一つです。\n",
        "### 因子 (Factor):\n",
        " 因子はカテゴリカルなデータを表現するためのデータ型です。主に統計解析において使用されます。\n",
        "これらの基本文法とデータ構造を理解することで、R言語でのデータ操作や分析を始める準備が整います。"
      ],
      "metadata": {
        "id": "rBxqqoowUwHk"
      }
    },
    {
      "cell_type": "markdown",
      "source": [
        "### 基本文法の学習: R言語の基本文法やデータ構造（ベクトル、リスト、データフレームなど）に慣れる"
      ],
      "metadata": {
        "id": "MOwImIjmnXy5"
      }
    },
    {
      "cell_type": "code",
      "execution_count": 6,
      "metadata": {
        "id": "9bP8oBvDqJNv",
        "colab": {
          "base_uri": "https://localhost:8080/",
          "height": 277
        },
        "outputId": "5894a662-e894-4a2a-efd5-7934bc584c4e"
      },
      "outputs": [
        {
          "output_type": "display_data",
          "data": {
            "text/plain": [
              "               _                           \n",
              "platform       x86_64-pc-linux-gnu         \n",
              "arch           x86_64                      \n",
              "os             linux-gnu                   \n",
              "system         x86_64, linux-gnu           \n",
              "status                                     \n",
              "major          4                           \n",
              "minor          3.2                         \n",
              "year           2023                        \n",
              "month          10                          \n",
              "day            31                          \n",
              "svn rev        85441                       \n",
              "language       R                           \n",
              "version.string R version 4.3.2 (2023-10-31)\n",
              "nickname       Eye Holes                   "
            ]
          },
          "metadata": {}
        }
      ],
      "source": [
        "# バージョン確認\n",
        "version"
      ]
    },
    {
      "cell_type": "code",
      "source": [
        "library()$results[,1]"
      ],
      "metadata": {
        "colab": {
          "base_uri": "https://localhost:8080/",
          "height": 139
        },
        "id": "zm7Ppq0pRaBo",
        "outputId": "058ff0bc-fc9d-4473-864b-e5382d602c30"
      },
      "execution_count": 7,
      "outputs": [
        {
          "output_type": "display_data",
          "data": {
            "text/html": [
              "<style>\n",
              ".list-inline {list-style: none; margin:0; padding: 0}\n",
              ".list-inline>li {display: inline-block}\n",
              ".list-inline>li:not(:last-child)::after {content: \"\\00b7\"; padding: 0 .5ex}\n",
              "</style>\n",
              "<ol class=list-inline><li>'IRdisplay'</li><li>'IRkernel'</li><li>'pbdZMQ'</li><li>'repr'</li><li>'askpass'</li><li>'backports'</li><li>'base64enc'</li><li>'bit'</li><li>'bit64'</li><li>'blob'</li><li>'brew'</li><li>'brio'</li><li>'broom'</li><li>'bslib'</li><li>'cachem'</li><li>'callr'</li><li>'cellranger'</li><li>'cli'</li><li>'clipr'</li><li>'colorspace'</li><li>'commonmark'</li><li>'conflicted'</li><li>'cpp11'</li><li>'crayon'</li><li>'credentials'</li><li>'curl'</li><li>'data.table'</li><li>'DBI'</li><li>'dbplyr'</li><li>'desc'</li><li>'devtools'</li><li>'diffobj'</li><li>'digest'</li><li>'dplyr'</li><li>'dtplyr'</li><li>'ellipsis'</li><li>'evaluate'</li><li>'fansi'</li><li>'farver'</li><li>'fastmap'</li><li>'fontawesome'</li><li>'forcats'</li><li>'fs'</li><li>'gargle'</li><li>'generics'</li><li>'gert'</li><li>'ggplot2'</li><li>'gh'</li><li>'gitcreds'</li><li>'glue'</li><li>'googledrive'</li><li>'googlesheets4'</li><li>'gtable'</li><li>'haven'</li><li>'highr'</li><li>'hms'</li><li>'htmltools'</li><li>'httr'</li><li>'httr2'</li><li>'ids'</li><li>'ini'</li><li>'isoband'</li><li>'jquerylib'</li><li>'jsonlite'</li><li>'knitr'</li><li>'labeling'</li><li>'lifecycle'</li><li>'lubridate'</li><li>'magrittr'</li><li>'memoise'</li><li>'mime'</li><li>'modelr'</li><li>'munsell'</li><li>'openssl'</li><li>'pillar'</li><li>'pkgbuild'</li><li>'pkgconfig'</li><li>'pkgload'</li><li>'praise'</li><li>'prettyunits'</li><li>'processx'</li><li>'progress'</li><li>'ps'</li><li>'purrr'</li><li>'R6'</li><li>'ragg'</li><li>'rappdirs'</li><li>'rcmdcheck'</li><li>'RColorBrewer'</li><li>'readr'</li><li>'readxl'</li><li>'rematch'</li><li>'rematch2'</li><li>'remotes'</li><li>'reprex'</li><li>'rlang'</li><li>'rmarkdown'</li><li>'roxygen2'</li><li>'rprojroot'</li><li>'rstudioapi'</li><li>'rversions'</li><li>'rvest'</li><li>'sass'</li><li>'scales'</li><li>'selectr'</li><li>'sessioninfo'</li><li>'stringi'</li><li>'stringr'</li><li>'svglite'</li><li>'sys'</li><li>'systemfonts'</li><li>'testthat'</li><li>'textshaping'</li><li>'tibble'</li><li>'tidyr'</li><li>'tidyselect'</li><li>'tidyverse'</li><li>'timechange'</li><li>'tinytex'</li><li>'tzdb'</li><li>'usethis'</li><li>'utf8'</li><li>'uuid'</li><li>'vctrs'</li><li>'viridisLite'</li><li>'vroom'</li><li>'waldo'</li><li>'whisker'</li><li>'withr'</li><li>'xfun'</li><li>'xml2'</li><li>'xopen'</li><li>'yaml'</li><li>'zip'</li><li>'base'</li><li>'boot'</li><li>'class'</li><li>'cluster'</li><li>'codetools'</li><li>'compiler'</li><li>'datasets'</li><li>'foreign'</li><li>'graphics'</li><li>'grDevices'</li><li>'grid'</li><li>'KernSmooth'</li><li>'lattice'</li><li>'MASS'</li><li>'Matrix'</li><li>'methods'</li><li>'mgcv'</li><li>'nlme'</li><li>'nnet'</li><li>'parallel'</li><li>'rpart'</li><li>'spatial'</li><li>'splines'</li><li>'stats'</li><li>'stats4'</li><li>'survival'</li><li>'tcltk'</li><li>'tools'</li><li>'utils'</li></ol>\n"
            ],
            "text/markdown": "1. 'IRdisplay'\n2. 'IRkernel'\n3. 'pbdZMQ'\n4. 'repr'\n5. 'askpass'\n6. 'backports'\n7. 'base64enc'\n8. 'bit'\n9. 'bit64'\n10. 'blob'\n11. 'brew'\n12. 'brio'\n13. 'broom'\n14. 'bslib'\n15. 'cachem'\n16. 'callr'\n17. 'cellranger'\n18. 'cli'\n19. 'clipr'\n20. 'colorspace'\n21. 'commonmark'\n22. 'conflicted'\n23. 'cpp11'\n24. 'crayon'\n25. 'credentials'\n26. 'curl'\n27. 'data.table'\n28. 'DBI'\n29. 'dbplyr'\n30. 'desc'\n31. 'devtools'\n32. 'diffobj'\n33. 'digest'\n34. 'dplyr'\n35. 'dtplyr'\n36. 'ellipsis'\n37. 'evaluate'\n38. 'fansi'\n39. 'farver'\n40. 'fastmap'\n41. 'fontawesome'\n42. 'forcats'\n43. 'fs'\n44. 'gargle'\n45. 'generics'\n46. 'gert'\n47. 'ggplot2'\n48. 'gh'\n49. 'gitcreds'\n50. 'glue'\n51. 'googledrive'\n52. 'googlesheets4'\n53. 'gtable'\n54. 'haven'\n55. 'highr'\n56. 'hms'\n57. 'htmltools'\n58. 'httr'\n59. 'httr2'\n60. 'ids'\n61. 'ini'\n62. 'isoband'\n63. 'jquerylib'\n64. 'jsonlite'\n65. 'knitr'\n66. 'labeling'\n67. 'lifecycle'\n68. 'lubridate'\n69. 'magrittr'\n70. 'memoise'\n71. 'mime'\n72. 'modelr'\n73. 'munsell'\n74. 'openssl'\n75. 'pillar'\n76. 'pkgbuild'\n77. 'pkgconfig'\n78. 'pkgload'\n79. 'praise'\n80. 'prettyunits'\n81. 'processx'\n82. 'progress'\n83. 'ps'\n84. 'purrr'\n85. 'R6'\n86. 'ragg'\n87. 'rappdirs'\n88. 'rcmdcheck'\n89. 'RColorBrewer'\n90. 'readr'\n91. 'readxl'\n92. 'rematch'\n93. 'rematch2'\n94. 'remotes'\n95. 'reprex'\n96. 'rlang'\n97. 'rmarkdown'\n98. 'roxygen2'\n99. 'rprojroot'\n100. 'rstudioapi'\n101. 'rversions'\n102. 'rvest'\n103. 'sass'\n104. 'scales'\n105. 'selectr'\n106. 'sessioninfo'\n107. 'stringi'\n108. 'stringr'\n109. 'svglite'\n110. 'sys'\n111. 'systemfonts'\n112. 'testthat'\n113. 'textshaping'\n114. 'tibble'\n115. 'tidyr'\n116. 'tidyselect'\n117. 'tidyverse'\n118. 'timechange'\n119. 'tinytex'\n120. 'tzdb'\n121. 'usethis'\n122. 'utf8'\n123. 'uuid'\n124. 'vctrs'\n125. 'viridisLite'\n126. 'vroom'\n127. 'waldo'\n128. 'whisker'\n129. 'withr'\n130. 'xfun'\n131. 'xml2'\n132. 'xopen'\n133. 'yaml'\n134. 'zip'\n135. 'base'\n136. 'boot'\n137. 'class'\n138. 'cluster'\n139. 'codetools'\n140. 'compiler'\n141. 'datasets'\n142. 'foreign'\n143. 'graphics'\n144. 'grDevices'\n145. 'grid'\n146. 'KernSmooth'\n147. 'lattice'\n148. 'MASS'\n149. 'Matrix'\n150. 'methods'\n151. 'mgcv'\n152. 'nlme'\n153. 'nnet'\n154. 'parallel'\n155. 'rpart'\n156. 'spatial'\n157. 'splines'\n158. 'stats'\n159. 'stats4'\n160. 'survival'\n161. 'tcltk'\n162. 'tools'\n163. 'utils'\n\n\n",
            "text/latex": "\\begin{enumerate*}\n\\item 'IRdisplay'\n\\item 'IRkernel'\n\\item 'pbdZMQ'\n\\item 'repr'\n\\item 'askpass'\n\\item 'backports'\n\\item 'base64enc'\n\\item 'bit'\n\\item 'bit64'\n\\item 'blob'\n\\item 'brew'\n\\item 'brio'\n\\item 'broom'\n\\item 'bslib'\n\\item 'cachem'\n\\item 'callr'\n\\item 'cellranger'\n\\item 'cli'\n\\item 'clipr'\n\\item 'colorspace'\n\\item 'commonmark'\n\\item 'conflicted'\n\\item 'cpp11'\n\\item 'crayon'\n\\item 'credentials'\n\\item 'curl'\n\\item 'data.table'\n\\item 'DBI'\n\\item 'dbplyr'\n\\item 'desc'\n\\item 'devtools'\n\\item 'diffobj'\n\\item 'digest'\n\\item 'dplyr'\n\\item 'dtplyr'\n\\item 'ellipsis'\n\\item 'evaluate'\n\\item 'fansi'\n\\item 'farver'\n\\item 'fastmap'\n\\item 'fontawesome'\n\\item 'forcats'\n\\item 'fs'\n\\item 'gargle'\n\\item 'generics'\n\\item 'gert'\n\\item 'ggplot2'\n\\item 'gh'\n\\item 'gitcreds'\n\\item 'glue'\n\\item 'googledrive'\n\\item 'googlesheets4'\n\\item 'gtable'\n\\item 'haven'\n\\item 'highr'\n\\item 'hms'\n\\item 'htmltools'\n\\item 'httr'\n\\item 'httr2'\n\\item 'ids'\n\\item 'ini'\n\\item 'isoband'\n\\item 'jquerylib'\n\\item 'jsonlite'\n\\item 'knitr'\n\\item 'labeling'\n\\item 'lifecycle'\n\\item 'lubridate'\n\\item 'magrittr'\n\\item 'memoise'\n\\item 'mime'\n\\item 'modelr'\n\\item 'munsell'\n\\item 'openssl'\n\\item 'pillar'\n\\item 'pkgbuild'\n\\item 'pkgconfig'\n\\item 'pkgload'\n\\item 'praise'\n\\item 'prettyunits'\n\\item 'processx'\n\\item 'progress'\n\\item 'ps'\n\\item 'purrr'\n\\item 'R6'\n\\item 'ragg'\n\\item 'rappdirs'\n\\item 'rcmdcheck'\n\\item 'RColorBrewer'\n\\item 'readr'\n\\item 'readxl'\n\\item 'rematch'\n\\item 'rematch2'\n\\item 'remotes'\n\\item 'reprex'\n\\item 'rlang'\n\\item 'rmarkdown'\n\\item 'roxygen2'\n\\item 'rprojroot'\n\\item 'rstudioapi'\n\\item 'rversions'\n\\item 'rvest'\n\\item 'sass'\n\\item 'scales'\n\\item 'selectr'\n\\item 'sessioninfo'\n\\item 'stringi'\n\\item 'stringr'\n\\item 'svglite'\n\\item 'sys'\n\\item 'systemfonts'\n\\item 'testthat'\n\\item 'textshaping'\n\\item 'tibble'\n\\item 'tidyr'\n\\item 'tidyselect'\n\\item 'tidyverse'\n\\item 'timechange'\n\\item 'tinytex'\n\\item 'tzdb'\n\\item 'usethis'\n\\item 'utf8'\n\\item 'uuid'\n\\item 'vctrs'\n\\item 'viridisLite'\n\\item 'vroom'\n\\item 'waldo'\n\\item 'whisker'\n\\item 'withr'\n\\item 'xfun'\n\\item 'xml2'\n\\item 'xopen'\n\\item 'yaml'\n\\item 'zip'\n\\item 'base'\n\\item 'boot'\n\\item 'class'\n\\item 'cluster'\n\\item 'codetools'\n\\item 'compiler'\n\\item 'datasets'\n\\item 'foreign'\n\\item 'graphics'\n\\item 'grDevices'\n\\item 'grid'\n\\item 'KernSmooth'\n\\item 'lattice'\n\\item 'MASS'\n\\item 'Matrix'\n\\item 'methods'\n\\item 'mgcv'\n\\item 'nlme'\n\\item 'nnet'\n\\item 'parallel'\n\\item 'rpart'\n\\item 'spatial'\n\\item 'splines'\n\\item 'stats'\n\\item 'stats4'\n\\item 'survival'\n\\item 'tcltk'\n\\item 'tools'\n\\item 'utils'\n\\end{enumerate*}\n",
            "text/plain": [
              "  [1] \"IRdisplay\"     \"IRkernel\"      \"pbdZMQ\"        \"repr\"         \n",
              "  [5] \"askpass\"       \"backports\"     \"base64enc\"     \"bit\"          \n",
              "  [9] \"bit64\"         \"blob\"          \"brew\"          \"brio\"         \n",
              " [13] \"broom\"         \"bslib\"         \"cachem\"        \"callr\"        \n",
              " [17] \"cellranger\"    \"cli\"           \"clipr\"         \"colorspace\"   \n",
              " [21] \"commonmark\"    \"conflicted\"    \"cpp11\"         \"crayon\"       \n",
              " [25] \"credentials\"   \"curl\"          \"data.table\"    \"DBI\"          \n",
              " [29] \"dbplyr\"        \"desc\"          \"devtools\"      \"diffobj\"      \n",
              " [33] \"digest\"        \"dplyr\"         \"dtplyr\"        \"ellipsis\"     \n",
              " [37] \"evaluate\"      \"fansi\"         \"farver\"        \"fastmap\"      \n",
              " [41] \"fontawesome\"   \"forcats\"       \"fs\"            \"gargle\"       \n",
              " [45] \"generics\"      \"gert\"          \"ggplot2\"       \"gh\"           \n",
              " [49] \"gitcreds\"      \"glue\"          \"googledrive\"   \"googlesheets4\"\n",
              " [53] \"gtable\"        \"haven\"         \"highr\"         \"hms\"          \n",
              " [57] \"htmltools\"     \"httr\"          \"httr2\"         \"ids\"          \n",
              " [61] \"ini\"           \"isoband\"       \"jquerylib\"     \"jsonlite\"     \n",
              " [65] \"knitr\"         \"labeling\"      \"lifecycle\"     \"lubridate\"    \n",
              " [69] \"magrittr\"      \"memoise\"       \"mime\"          \"modelr\"       \n",
              " [73] \"munsell\"       \"openssl\"       \"pillar\"        \"pkgbuild\"     \n",
              " [77] \"pkgconfig\"     \"pkgload\"       \"praise\"        \"prettyunits\"  \n",
              " [81] \"processx\"      \"progress\"      \"ps\"            \"purrr\"        \n",
              " [85] \"R6\"            \"ragg\"          \"rappdirs\"      \"rcmdcheck\"    \n",
              " [89] \"RColorBrewer\"  \"readr\"         \"readxl\"        \"rematch\"      \n",
              " [93] \"rematch2\"      \"remotes\"       \"reprex\"        \"rlang\"        \n",
              " [97] \"rmarkdown\"     \"roxygen2\"      \"rprojroot\"     \"rstudioapi\"   \n",
              "[101] \"rversions\"     \"rvest\"         \"sass\"          \"scales\"       \n",
              "[105] \"selectr\"       \"sessioninfo\"   \"stringi\"       \"stringr\"      \n",
              "[109] \"svglite\"       \"sys\"           \"systemfonts\"   \"testthat\"     \n",
              "[113] \"textshaping\"   \"tibble\"        \"tidyr\"         \"tidyselect\"   \n",
              "[117] \"tidyverse\"     \"timechange\"    \"tinytex\"       \"tzdb\"         \n",
              "[121] \"usethis\"       \"utf8\"          \"uuid\"          \"vctrs\"        \n",
              "[125] \"viridisLite\"   \"vroom\"         \"waldo\"         \"whisker\"      \n",
              "[129] \"withr\"         \"xfun\"          \"xml2\"          \"xopen\"        \n",
              "[133] \"yaml\"          \"zip\"           \"base\"          \"boot\"         \n",
              "[137] \"class\"         \"cluster\"       \"codetools\"     \"compiler\"     \n",
              "[141] \"datasets\"      \"foreign\"       \"graphics\"      \"grDevices\"    \n",
              "[145] \"grid\"          \"KernSmooth\"    \"lattice\"       \"MASS\"         \n",
              "[149] \"Matrix\"        \"methods\"       \"mgcv\"          \"nlme\"         \n",
              "[153] \"nnet\"          \"parallel\"      \"rpart\"         \"spatial\"      \n",
              "[157] \"splines\"       \"stats\"         \"stats4\"        \"survival\"     \n",
              "[161] \"tcltk\"         \"tools\"         \"utils\"        "
            ]
          },
          "metadata": {}
        }
      ]
    },
    {
      "cell_type": "code",
      "source": [
        "p = installed.packages()\n",
        "rownames( p )"
      ],
      "metadata": {
        "colab": {
          "base_uri": "https://localhost:8080/",
          "height": 139
        },
        "id": "HiUEdq9lSBrb",
        "outputId": "7cf9a5a1-9f25-456f-ca46-806c38706e1e"
      },
      "execution_count": 8,
      "outputs": [
        {
          "output_type": "display_data",
          "data": {
            "text/html": [
              "<style>\n",
              ".list-inline {list-style: none; margin:0; padding: 0}\n",
              ".list-inline>li {display: inline-block}\n",
              ".list-inline>li:not(:last-child)::after {content: \"\\00b7\"; padding: 0 .5ex}\n",
              "</style>\n",
              "<ol class=list-inline><li>'IRdisplay'</li><li>'IRkernel'</li><li>'pbdZMQ'</li><li>'repr'</li><li>'askpass'</li><li>'backports'</li><li>'base64enc'</li><li>'bit'</li><li>'bit64'</li><li>'blob'</li><li>'brew'</li><li>'brio'</li><li>'broom'</li><li>'bslib'</li><li>'cachem'</li><li>'callr'</li><li>'cellranger'</li><li>'cli'</li><li>'clipr'</li><li>'colorspace'</li><li>'commonmark'</li><li>'conflicted'</li><li>'cpp11'</li><li>'crayon'</li><li>'credentials'</li><li>'curl'</li><li>'data.table'</li><li>'DBI'</li><li>'dbplyr'</li><li>'desc'</li><li>'devtools'</li><li>'diffobj'</li><li>'digest'</li><li>'dplyr'</li><li>'dtplyr'</li><li>'ellipsis'</li><li>'evaluate'</li><li>'fansi'</li><li>'farver'</li><li>'fastmap'</li><li>'fontawesome'</li><li>'forcats'</li><li>'fs'</li><li>'gargle'</li><li>'generics'</li><li>'gert'</li><li>'ggplot2'</li><li>'gh'</li><li>'gitcreds'</li><li>'glue'</li><li>'googledrive'</li><li>'googlesheets4'</li><li>'gtable'</li><li>'haven'</li><li>'highr'</li><li>'hms'</li><li>'htmltools'</li><li>'httr'</li><li>'httr2'</li><li>'ids'</li><li>'ini'</li><li>'isoband'</li><li>'jquerylib'</li><li>'jsonlite'</li><li>'knitr'</li><li>'labeling'</li><li>'lifecycle'</li><li>'lubridate'</li><li>'magrittr'</li><li>'memoise'</li><li>'mime'</li><li>'modelr'</li><li>'munsell'</li><li>'openssl'</li><li>'pillar'</li><li>'pkgbuild'</li><li>'pkgconfig'</li><li>'pkgload'</li><li>'praise'</li><li>'prettyunits'</li><li>'processx'</li><li>'progress'</li><li>'ps'</li><li>'purrr'</li><li>'R6'</li><li>'ragg'</li><li>'rappdirs'</li><li>'rcmdcheck'</li><li>'RColorBrewer'</li><li>'readr'</li><li>'readxl'</li><li>'rematch'</li><li>'rematch2'</li><li>'remotes'</li><li>'reprex'</li><li>'rlang'</li><li>'rmarkdown'</li><li>'roxygen2'</li><li>'rprojroot'</li><li>'rstudioapi'</li><li>'rversions'</li><li>'rvest'</li><li>'sass'</li><li>'scales'</li><li>'selectr'</li><li>'sessioninfo'</li><li>'stringi'</li><li>'stringr'</li><li>'svglite'</li><li>'sys'</li><li>'systemfonts'</li><li>'testthat'</li><li>'textshaping'</li><li>'tibble'</li><li>'tidyr'</li><li>'tidyselect'</li><li>'tidyverse'</li><li>'timechange'</li><li>'tinytex'</li><li>'tzdb'</li><li>'usethis'</li><li>'utf8'</li><li>'uuid'</li><li>'vctrs'</li><li>'viridisLite'</li><li>'vroom'</li><li>'waldo'</li><li>'whisker'</li><li>'withr'</li><li>'xfun'</li><li>'xml2'</li><li>'xopen'</li><li>'yaml'</li><li>'zip'</li><li>'base'</li><li>'boot'</li><li>'class'</li><li>'cluster'</li><li>'codetools'</li><li>'compiler'</li><li>'datasets'</li><li>'foreign'</li><li>'graphics'</li><li>'grDevices'</li><li>'grid'</li><li>'KernSmooth'</li><li>'lattice'</li><li>'MASS'</li><li>'Matrix'</li><li>'methods'</li><li>'mgcv'</li><li>'nlme'</li><li>'nnet'</li><li>'parallel'</li><li>'rpart'</li><li>'spatial'</li><li>'splines'</li><li>'stats'</li><li>'stats4'</li><li>'survival'</li><li>'tcltk'</li><li>'tools'</li><li>'utils'</li></ol>\n"
            ],
            "text/markdown": "1. 'IRdisplay'\n2. 'IRkernel'\n3. 'pbdZMQ'\n4. 'repr'\n5. 'askpass'\n6. 'backports'\n7. 'base64enc'\n8. 'bit'\n9. 'bit64'\n10. 'blob'\n11. 'brew'\n12. 'brio'\n13. 'broom'\n14. 'bslib'\n15. 'cachem'\n16. 'callr'\n17. 'cellranger'\n18. 'cli'\n19. 'clipr'\n20. 'colorspace'\n21. 'commonmark'\n22. 'conflicted'\n23. 'cpp11'\n24. 'crayon'\n25. 'credentials'\n26. 'curl'\n27. 'data.table'\n28. 'DBI'\n29. 'dbplyr'\n30. 'desc'\n31. 'devtools'\n32. 'diffobj'\n33. 'digest'\n34. 'dplyr'\n35. 'dtplyr'\n36. 'ellipsis'\n37. 'evaluate'\n38. 'fansi'\n39. 'farver'\n40. 'fastmap'\n41. 'fontawesome'\n42. 'forcats'\n43. 'fs'\n44. 'gargle'\n45. 'generics'\n46. 'gert'\n47. 'ggplot2'\n48. 'gh'\n49. 'gitcreds'\n50. 'glue'\n51. 'googledrive'\n52. 'googlesheets4'\n53. 'gtable'\n54. 'haven'\n55. 'highr'\n56. 'hms'\n57. 'htmltools'\n58. 'httr'\n59. 'httr2'\n60. 'ids'\n61. 'ini'\n62. 'isoband'\n63. 'jquerylib'\n64. 'jsonlite'\n65. 'knitr'\n66. 'labeling'\n67. 'lifecycle'\n68. 'lubridate'\n69. 'magrittr'\n70. 'memoise'\n71. 'mime'\n72. 'modelr'\n73. 'munsell'\n74. 'openssl'\n75. 'pillar'\n76. 'pkgbuild'\n77. 'pkgconfig'\n78. 'pkgload'\n79. 'praise'\n80. 'prettyunits'\n81. 'processx'\n82. 'progress'\n83. 'ps'\n84. 'purrr'\n85. 'R6'\n86. 'ragg'\n87. 'rappdirs'\n88. 'rcmdcheck'\n89. 'RColorBrewer'\n90. 'readr'\n91. 'readxl'\n92. 'rematch'\n93. 'rematch2'\n94. 'remotes'\n95. 'reprex'\n96. 'rlang'\n97. 'rmarkdown'\n98. 'roxygen2'\n99. 'rprojroot'\n100. 'rstudioapi'\n101. 'rversions'\n102. 'rvest'\n103. 'sass'\n104. 'scales'\n105. 'selectr'\n106. 'sessioninfo'\n107. 'stringi'\n108. 'stringr'\n109. 'svglite'\n110. 'sys'\n111. 'systemfonts'\n112. 'testthat'\n113. 'textshaping'\n114. 'tibble'\n115. 'tidyr'\n116. 'tidyselect'\n117. 'tidyverse'\n118. 'timechange'\n119. 'tinytex'\n120. 'tzdb'\n121. 'usethis'\n122. 'utf8'\n123. 'uuid'\n124. 'vctrs'\n125. 'viridisLite'\n126. 'vroom'\n127. 'waldo'\n128. 'whisker'\n129. 'withr'\n130. 'xfun'\n131. 'xml2'\n132. 'xopen'\n133. 'yaml'\n134. 'zip'\n135. 'base'\n136. 'boot'\n137. 'class'\n138. 'cluster'\n139. 'codetools'\n140. 'compiler'\n141. 'datasets'\n142. 'foreign'\n143. 'graphics'\n144. 'grDevices'\n145. 'grid'\n146. 'KernSmooth'\n147. 'lattice'\n148. 'MASS'\n149. 'Matrix'\n150. 'methods'\n151. 'mgcv'\n152. 'nlme'\n153. 'nnet'\n154. 'parallel'\n155. 'rpart'\n156. 'spatial'\n157. 'splines'\n158. 'stats'\n159. 'stats4'\n160. 'survival'\n161. 'tcltk'\n162. 'tools'\n163. 'utils'\n\n\n",
            "text/latex": "\\begin{enumerate*}\n\\item 'IRdisplay'\n\\item 'IRkernel'\n\\item 'pbdZMQ'\n\\item 'repr'\n\\item 'askpass'\n\\item 'backports'\n\\item 'base64enc'\n\\item 'bit'\n\\item 'bit64'\n\\item 'blob'\n\\item 'brew'\n\\item 'brio'\n\\item 'broom'\n\\item 'bslib'\n\\item 'cachem'\n\\item 'callr'\n\\item 'cellranger'\n\\item 'cli'\n\\item 'clipr'\n\\item 'colorspace'\n\\item 'commonmark'\n\\item 'conflicted'\n\\item 'cpp11'\n\\item 'crayon'\n\\item 'credentials'\n\\item 'curl'\n\\item 'data.table'\n\\item 'DBI'\n\\item 'dbplyr'\n\\item 'desc'\n\\item 'devtools'\n\\item 'diffobj'\n\\item 'digest'\n\\item 'dplyr'\n\\item 'dtplyr'\n\\item 'ellipsis'\n\\item 'evaluate'\n\\item 'fansi'\n\\item 'farver'\n\\item 'fastmap'\n\\item 'fontawesome'\n\\item 'forcats'\n\\item 'fs'\n\\item 'gargle'\n\\item 'generics'\n\\item 'gert'\n\\item 'ggplot2'\n\\item 'gh'\n\\item 'gitcreds'\n\\item 'glue'\n\\item 'googledrive'\n\\item 'googlesheets4'\n\\item 'gtable'\n\\item 'haven'\n\\item 'highr'\n\\item 'hms'\n\\item 'htmltools'\n\\item 'httr'\n\\item 'httr2'\n\\item 'ids'\n\\item 'ini'\n\\item 'isoband'\n\\item 'jquerylib'\n\\item 'jsonlite'\n\\item 'knitr'\n\\item 'labeling'\n\\item 'lifecycle'\n\\item 'lubridate'\n\\item 'magrittr'\n\\item 'memoise'\n\\item 'mime'\n\\item 'modelr'\n\\item 'munsell'\n\\item 'openssl'\n\\item 'pillar'\n\\item 'pkgbuild'\n\\item 'pkgconfig'\n\\item 'pkgload'\n\\item 'praise'\n\\item 'prettyunits'\n\\item 'processx'\n\\item 'progress'\n\\item 'ps'\n\\item 'purrr'\n\\item 'R6'\n\\item 'ragg'\n\\item 'rappdirs'\n\\item 'rcmdcheck'\n\\item 'RColorBrewer'\n\\item 'readr'\n\\item 'readxl'\n\\item 'rematch'\n\\item 'rematch2'\n\\item 'remotes'\n\\item 'reprex'\n\\item 'rlang'\n\\item 'rmarkdown'\n\\item 'roxygen2'\n\\item 'rprojroot'\n\\item 'rstudioapi'\n\\item 'rversions'\n\\item 'rvest'\n\\item 'sass'\n\\item 'scales'\n\\item 'selectr'\n\\item 'sessioninfo'\n\\item 'stringi'\n\\item 'stringr'\n\\item 'svglite'\n\\item 'sys'\n\\item 'systemfonts'\n\\item 'testthat'\n\\item 'textshaping'\n\\item 'tibble'\n\\item 'tidyr'\n\\item 'tidyselect'\n\\item 'tidyverse'\n\\item 'timechange'\n\\item 'tinytex'\n\\item 'tzdb'\n\\item 'usethis'\n\\item 'utf8'\n\\item 'uuid'\n\\item 'vctrs'\n\\item 'viridisLite'\n\\item 'vroom'\n\\item 'waldo'\n\\item 'whisker'\n\\item 'withr'\n\\item 'xfun'\n\\item 'xml2'\n\\item 'xopen'\n\\item 'yaml'\n\\item 'zip'\n\\item 'base'\n\\item 'boot'\n\\item 'class'\n\\item 'cluster'\n\\item 'codetools'\n\\item 'compiler'\n\\item 'datasets'\n\\item 'foreign'\n\\item 'graphics'\n\\item 'grDevices'\n\\item 'grid'\n\\item 'KernSmooth'\n\\item 'lattice'\n\\item 'MASS'\n\\item 'Matrix'\n\\item 'methods'\n\\item 'mgcv'\n\\item 'nlme'\n\\item 'nnet'\n\\item 'parallel'\n\\item 'rpart'\n\\item 'spatial'\n\\item 'splines'\n\\item 'stats'\n\\item 'stats4'\n\\item 'survival'\n\\item 'tcltk'\n\\item 'tools'\n\\item 'utils'\n\\end{enumerate*}\n",
            "text/plain": [
              "  [1] \"IRdisplay\"     \"IRkernel\"      \"pbdZMQ\"        \"repr\"         \n",
              "  [5] \"askpass\"       \"backports\"     \"base64enc\"     \"bit\"          \n",
              "  [9] \"bit64\"         \"blob\"          \"brew\"          \"brio\"         \n",
              " [13] \"broom\"         \"bslib\"         \"cachem\"        \"callr\"        \n",
              " [17] \"cellranger\"    \"cli\"           \"clipr\"         \"colorspace\"   \n",
              " [21] \"commonmark\"    \"conflicted\"    \"cpp11\"         \"crayon\"       \n",
              " [25] \"credentials\"   \"curl\"          \"data.table\"    \"DBI\"          \n",
              " [29] \"dbplyr\"        \"desc\"          \"devtools\"      \"diffobj\"      \n",
              " [33] \"digest\"        \"dplyr\"         \"dtplyr\"        \"ellipsis\"     \n",
              " [37] \"evaluate\"      \"fansi\"         \"farver\"        \"fastmap\"      \n",
              " [41] \"fontawesome\"   \"forcats\"       \"fs\"            \"gargle\"       \n",
              " [45] \"generics\"      \"gert\"          \"ggplot2\"       \"gh\"           \n",
              " [49] \"gitcreds\"      \"glue\"          \"googledrive\"   \"googlesheets4\"\n",
              " [53] \"gtable\"        \"haven\"         \"highr\"         \"hms\"          \n",
              " [57] \"htmltools\"     \"httr\"          \"httr2\"         \"ids\"          \n",
              " [61] \"ini\"           \"isoband\"       \"jquerylib\"     \"jsonlite\"     \n",
              " [65] \"knitr\"         \"labeling\"      \"lifecycle\"     \"lubridate\"    \n",
              " [69] \"magrittr\"      \"memoise\"       \"mime\"          \"modelr\"       \n",
              " [73] \"munsell\"       \"openssl\"       \"pillar\"        \"pkgbuild\"     \n",
              " [77] \"pkgconfig\"     \"pkgload\"       \"praise\"        \"prettyunits\"  \n",
              " [81] \"processx\"      \"progress\"      \"ps\"            \"purrr\"        \n",
              " [85] \"R6\"            \"ragg\"          \"rappdirs\"      \"rcmdcheck\"    \n",
              " [89] \"RColorBrewer\"  \"readr\"         \"readxl\"        \"rematch\"      \n",
              " [93] \"rematch2\"      \"remotes\"       \"reprex\"        \"rlang\"        \n",
              " [97] \"rmarkdown\"     \"roxygen2\"      \"rprojroot\"     \"rstudioapi\"   \n",
              "[101] \"rversions\"     \"rvest\"         \"sass\"          \"scales\"       \n",
              "[105] \"selectr\"       \"sessioninfo\"   \"stringi\"       \"stringr\"      \n",
              "[109] \"svglite\"       \"sys\"           \"systemfonts\"   \"testthat\"     \n",
              "[113] \"textshaping\"   \"tibble\"        \"tidyr\"         \"tidyselect\"   \n",
              "[117] \"tidyverse\"     \"timechange\"    \"tinytex\"       \"tzdb\"         \n",
              "[121] \"usethis\"       \"utf8\"          \"uuid\"          \"vctrs\"        \n",
              "[125] \"viridisLite\"   \"vroom\"         \"waldo\"         \"whisker\"      \n",
              "[129] \"withr\"         \"xfun\"          \"xml2\"          \"xopen\"        \n",
              "[133] \"yaml\"          \"zip\"           \"base\"          \"boot\"         \n",
              "[137] \"class\"         \"cluster\"       \"codetools\"     \"compiler\"     \n",
              "[141] \"datasets\"      \"foreign\"       \"graphics\"      \"grDevices\"    \n",
              "[145] \"grid\"          \"KernSmooth\"    \"lattice\"       \"MASS\"         \n",
              "[149] \"Matrix\"        \"methods\"       \"mgcv\"          \"nlme\"         \n",
              "[153] \"nnet\"          \"parallel\"      \"rpart\"         \"spatial\"      \n",
              "[157] \"splines\"       \"stats\"         \"stats4\"        \"survival\"     \n",
              "[161] \"tcltk\"         \"tools\"         \"utils\"        "
            ]
          },
          "metadata": {}
        }
      ]
    },
    {
      "cell_type": "code",
      "source": [
        "df = data.frame( x = 1:5, y = 6:10 )\n",
        "df"
      ],
      "metadata": {
        "colab": {
          "base_uri": "https://localhost:8080/",
          "height": 272
        },
        "id": "LG3OWZLlRwU6",
        "outputId": "43b9cebc-8d67-49c1-f6a1-e7e599ce9111"
      },
      "execution_count": 9,
      "outputs": [
        {
          "output_type": "display_data",
          "data": {
            "text/html": [
              "<table class=\"dataframe\">\n",
              "<caption>A data.frame: 5 × 2</caption>\n",
              "<thead>\n",
              "\t<tr><th scope=col>x</th><th scope=col>y</th></tr>\n",
              "\t<tr><th scope=col>&lt;int&gt;</th><th scope=col>&lt;int&gt;</th></tr>\n",
              "</thead>\n",
              "<tbody>\n",
              "\t<tr><td>1</td><td> 6</td></tr>\n",
              "\t<tr><td>2</td><td> 7</td></tr>\n",
              "\t<tr><td>3</td><td> 8</td></tr>\n",
              "\t<tr><td>4</td><td> 9</td></tr>\n",
              "\t<tr><td>5</td><td>10</td></tr>\n",
              "</tbody>\n",
              "</table>\n"
            ],
            "text/markdown": "\nA data.frame: 5 × 2\n\n| x &lt;int&gt; | y &lt;int&gt; |\n|---|---|\n| 1 |  6 |\n| 2 |  7 |\n| 3 |  8 |\n| 4 |  9 |\n| 5 | 10 |\n\n",
            "text/latex": "A data.frame: 5 × 2\n\\begin{tabular}{ll}\n x & y\\\\\n <int> & <int>\\\\\n\\hline\n\t 1 &  6\\\\\n\t 2 &  7\\\\\n\t 3 &  8\\\\\n\t 4 &  9\\\\\n\t 5 & 10\\\\\n\\end{tabular}\n",
            "text/plain": [
              "  x y \n",
              "1 1  6\n",
              "2 2  7\n",
              "3 3  8\n",
              "4 4  9\n",
              "5 5 10"
            ]
          },
          "metadata": {}
        }
      ]
    },
    {
      "cell_type": "markdown",
      "source": [
        "## Rでのベクトル・行列の作成と四則演算・要素の参照【第1回】\n",
        "https://ai-trend.jp/programming/r-beginner/r-1/"
      ],
      "metadata": {
        "id": "IlgaNe4_T-o_"
      }
    },
    {
      "cell_type": "code",
      "source": [
        "x <- c(1,2,3,4,5)"
      ],
      "metadata": {
        "id": "lpBGwjmXSysj"
      },
      "execution_count": 10,
      "outputs": []
    },
    {
      "cell_type": "code",
      "source": [
        "y <- c(1:5,3:1)"
      ],
      "metadata": {
        "id": "dbbCwVFcS3cA"
      },
      "execution_count": 11,
      "outputs": []
    },
    {
      "cell_type": "code",
      "source": [
        "z <- c(rep(3,4),rep(c(1,5,10),c(2,3,4)))"
      ],
      "metadata": {
        "id": "a1hzFUFAS6KM"
      },
      "execution_count": 12,
      "outputs": []
    },
    {
      "cell_type": "code",
      "source": [
        "a <- c(\"A\",\"B\",\"C\")"
      ],
      "metadata": {
        "id": "kZ37DaV2S8x3"
      },
      "execution_count": 13,
      "outputs": []
    },
    {
      "cell_type": "code",
      "source": [
        "x"
      ],
      "metadata": {
        "colab": {
          "base_uri": "https://localhost:8080/",
          "height": 34
        },
        "id": "OAFW5EBITQKj",
        "outputId": "6bcabdd3-12e7-4841-9ed7-fa2b529db6db"
      },
      "execution_count": 14,
      "outputs": [
        {
          "output_type": "display_data",
          "data": {
            "text/html": [
              "<style>\n",
              ".list-inline {list-style: none; margin:0; padding: 0}\n",
              ".list-inline>li {display: inline-block}\n",
              ".list-inline>li:not(:last-child)::after {content: \"\\00b7\"; padding: 0 .5ex}\n",
              "</style>\n",
              "<ol class=list-inline><li>1</li><li>2</li><li>3</li><li>4</li><li>5</li></ol>\n"
            ],
            "text/markdown": "1. 1\n2. 2\n3. 3\n4. 4\n5. 5\n\n\n",
            "text/latex": "\\begin{enumerate*}\n\\item 1\n\\item 2\n\\item 3\n\\item 4\n\\item 5\n\\end{enumerate*}\n",
            "text/plain": [
              "[1] 1 2 3 4 5"
            ]
          },
          "metadata": {}
        }
      ]
    },
    {
      "cell_type": "code",
      "source": [
        "y"
      ],
      "metadata": {
        "colab": {
          "base_uri": "https://localhost:8080/",
          "height": 34
        },
        "id": "cant_N_CTT51",
        "outputId": "9ed44762-1074-4aae-ccfb-61cc048071ac"
      },
      "execution_count": 15,
      "outputs": [
        {
          "output_type": "display_data",
          "data": {
            "text/html": [
              "<style>\n",
              ".list-inline {list-style: none; margin:0; padding: 0}\n",
              ".list-inline>li {display: inline-block}\n",
              ".list-inline>li:not(:last-child)::after {content: \"\\00b7\"; padding: 0 .5ex}\n",
              "</style>\n",
              "<ol class=list-inline><li>1</li><li>2</li><li>3</li><li>4</li><li>5</li><li>3</li><li>2</li><li>1</li></ol>\n"
            ],
            "text/markdown": "1. 1\n2. 2\n3. 3\n4. 4\n5. 5\n6. 3\n7. 2\n8. 1\n\n\n",
            "text/latex": "\\begin{enumerate*}\n\\item 1\n\\item 2\n\\item 3\n\\item 4\n\\item 5\n\\item 3\n\\item 2\n\\item 1\n\\end{enumerate*}\n",
            "text/plain": [
              "[1] 1 2 3 4 5 3 2 1"
            ]
          },
          "metadata": {}
        }
      ]
    },
    {
      "cell_type": "code",
      "source": [
        "z"
      ],
      "metadata": {
        "colab": {
          "base_uri": "https://localhost:8080/",
          "height": 34
        },
        "id": "ATXfopupTVCt",
        "outputId": "25f9c244-48b8-4e2c-bafd-a93209d053bf"
      },
      "execution_count": 16,
      "outputs": [
        {
          "output_type": "display_data",
          "data": {
            "text/html": [
              "<style>\n",
              ".list-inline {list-style: none; margin:0; padding: 0}\n",
              ".list-inline>li {display: inline-block}\n",
              ".list-inline>li:not(:last-child)::after {content: \"\\00b7\"; padding: 0 .5ex}\n",
              "</style>\n",
              "<ol class=list-inline><li>3</li><li>3</li><li>3</li><li>3</li><li>1</li><li>1</li><li>5</li><li>5</li><li>5</li><li>10</li><li>10</li><li>10</li><li>10</li></ol>\n"
            ],
            "text/markdown": "1. 3\n2. 3\n3. 3\n4. 3\n5. 1\n6. 1\n7. 5\n8. 5\n9. 5\n10. 10\n11. 10\n12. 10\n13. 10\n\n\n",
            "text/latex": "\\begin{enumerate*}\n\\item 3\n\\item 3\n\\item 3\n\\item 3\n\\item 1\n\\item 1\n\\item 5\n\\item 5\n\\item 5\n\\item 10\n\\item 10\n\\item 10\n\\item 10\n\\end{enumerate*}\n",
            "text/plain": [
              " [1]  3  3  3  3  1  1  5  5  5 10 10 10 10"
            ]
          },
          "metadata": {}
        }
      ]
    },
    {
      "cell_type": "code",
      "source": [
        "a"
      ],
      "metadata": {
        "colab": {
          "base_uri": "https://localhost:8080/",
          "height": 34
        },
        "id": "wpI0xjaYTWIV",
        "outputId": "695ac6c6-6e52-4d9b-c96a-f004a0c5bb32"
      },
      "execution_count": 17,
      "outputs": [
        {
          "output_type": "display_data",
          "data": {
            "text/html": [
              "<style>\n",
              ".list-inline {list-style: none; margin:0; padding: 0}\n",
              ".list-inline>li {display: inline-block}\n",
              ".list-inline>li:not(:last-child)::after {content: \"\\00b7\"; padding: 0 .5ex}\n",
              "</style>\n",
              "<ol class=list-inline><li>'A'</li><li>'B'</li><li>'C'</li></ol>\n"
            ],
            "text/markdown": "1. 'A'\n2. 'B'\n3. 'C'\n\n\n",
            "text/latex": "\\begin{enumerate*}\n\\item 'A'\n\\item 'B'\n\\item 'C'\n\\end{enumerate*}\n",
            "text/plain": [
              "[1] \"A\" \"B\" \"C\""
            ]
          },
          "metadata": {}
        }
      ]
    },
    {
      "cell_type": "markdown",
      "source": [
        "行列を作ってみよう"
      ],
      "metadata": {
        "id": "ofrSaX5wUFpe"
      }
    },
    {
      "cell_type": "code",
      "source": [
        "mat1 <- matrix(c(1:10),nrow=2,ncol=5)\n",
        "mat1 <- matrix(c(1:10),2,5)\n",
        "mat2 <- matrix(c(1:10),2,byrow=TRUE)\n",
        "mat3 <- matrix(c(1,3,2,5,7,3,2,15,2),3,3,byrow=TRUE)"
      ],
      "metadata": {
        "id": "KStAz5mUTy0t"
      },
      "execution_count": 18,
      "outputs": []
    },
    {
      "cell_type": "code",
      "source": [
        "mat1"
      ],
      "metadata": {
        "colab": {
          "base_uri": "https://localhost:8080/",
          "height": 114
        },
        "id": "GVgU5F4yUVC7",
        "outputId": "fdc387ef-a5c8-4988-f8e5-a2594ff1937a"
      },
      "execution_count": 19,
      "outputs": [
        {
          "output_type": "display_data",
          "data": {
            "text/html": [
              "<table class=\"dataframe\">\n",
              "<caption>A matrix: 2 × 5 of type int</caption>\n",
              "<tbody>\n",
              "\t<tr><td>1</td><td>3</td><td>5</td><td>7</td><td> 9</td></tr>\n",
              "\t<tr><td>2</td><td>4</td><td>6</td><td>8</td><td>10</td></tr>\n",
              "</tbody>\n",
              "</table>\n"
            ],
            "text/markdown": "\nA matrix: 2 × 5 of type int\n\n| 1 | 3 | 5 | 7 |  9 |\n| 2 | 4 | 6 | 8 | 10 |\n\n",
            "text/latex": "A matrix: 2 × 5 of type int\n\\begin{tabular}{lllll}\n\t 1 & 3 & 5 & 7 &  9\\\\\n\t 2 & 4 & 6 & 8 & 10\\\\\n\\end{tabular}\n",
            "text/plain": [
              "     [,1] [,2] [,3] [,4] [,5]\n",
              "[1,] 1    3    5    7     9  \n",
              "[2,] 2    4    6    8    10  "
            ]
          },
          "metadata": {}
        }
      ]
    },
    {
      "cell_type": "code",
      "source": [
        "mat2"
      ],
      "metadata": {
        "colab": {
          "base_uri": "https://localhost:8080/",
          "height": 114
        },
        "id": "Ux4j3px5UW9x",
        "outputId": "bbf302fd-b2d8-4d06-c42f-fae692ba3863"
      },
      "execution_count": 20,
      "outputs": [
        {
          "output_type": "display_data",
          "data": {
            "text/html": [
              "<table class=\"dataframe\">\n",
              "<caption>A matrix: 2 × 5 of type int</caption>\n",
              "<tbody>\n",
              "\t<tr><td>1</td><td>2</td><td>3</td><td>4</td><td> 5</td></tr>\n",
              "\t<tr><td>6</td><td>7</td><td>8</td><td>9</td><td>10</td></tr>\n",
              "</tbody>\n",
              "</table>\n"
            ],
            "text/markdown": "\nA matrix: 2 × 5 of type int\n\n| 1 | 2 | 3 | 4 |  5 |\n| 6 | 7 | 8 | 9 | 10 |\n\n",
            "text/latex": "A matrix: 2 × 5 of type int\n\\begin{tabular}{lllll}\n\t 1 & 2 & 3 & 4 &  5\\\\\n\t 6 & 7 & 8 & 9 & 10\\\\\n\\end{tabular}\n",
            "text/plain": [
              "     [,1] [,2] [,3] [,4] [,5]\n",
              "[1,] 1    2    3    4     5  \n",
              "[2,] 6    7    8    9    10  "
            ]
          },
          "metadata": {}
        }
      ]
    },
    {
      "cell_type": "code",
      "source": [
        "mat3"
      ],
      "metadata": {
        "colab": {
          "base_uri": "https://localhost:8080/",
          "height": 163
        },
        "id": "M9xKX1PkUYdP",
        "outputId": "29af25b3-a691-44ab-dca6-4b8784a5a181"
      },
      "execution_count": 21,
      "outputs": [
        {
          "output_type": "display_data",
          "data": {
            "text/html": [
              "<table class=\"dataframe\">\n",
              "<caption>A matrix: 3 × 3 of type dbl</caption>\n",
              "<tbody>\n",
              "\t<tr><td>1</td><td> 3</td><td>2</td></tr>\n",
              "\t<tr><td>5</td><td> 7</td><td>3</td></tr>\n",
              "\t<tr><td>2</td><td>15</td><td>2</td></tr>\n",
              "</tbody>\n",
              "</table>\n"
            ],
            "text/markdown": "\nA matrix: 3 × 3 of type dbl\n\n| 1 |  3 | 2 |\n| 5 |  7 | 3 |\n| 2 | 15 | 2 |\n\n",
            "text/latex": "A matrix: 3 × 3 of type dbl\n\\begin{tabular}{lll}\n\t 1 &  3 & 2\\\\\n\t 5 &  7 & 3\\\\\n\t 2 & 15 & 2\\\\\n\\end{tabular}\n",
            "text/plain": [
              "     [,1] [,2] [,3]\n",
              "[1,] 1     3   2   \n",
              "[2,] 5     7   3   \n",
              "[3,] 2    15   2   "
            ]
          },
          "metadata": {}
        }
      ]
    },
    {
      "cell_type": "markdown",
      "source": [
        "コマンド使い方matrixmatrix(要素ベクトル,行数,列数)で行列を作成。nrow行数を返す。nrow(a)で行列aの行数を返す。ncol列数を返す。ncol(a)でaの列数を返す。byrowbyrow=TUREで要素順を変更。"
      ],
      "metadata": {
        "id": "SEDjuljDUiix"
      }
    },
    {
      "cell_type": "markdown",
      "source": [
        "行列の計算をしてみよう（四則演算）"
      ],
      "metadata": {
        "id": "2FNcCiPTUqWu"
      }
    },
    {
      "cell_type": "code",
      "source": [
        "mat1+mat2"
      ],
      "metadata": {
        "colab": {
          "base_uri": "https://localhost:8080/",
          "height": 114
        },
        "id": "3XCfYc6dUmjn",
        "outputId": "d3cce3d7-8351-4468-99a4-014de13e1ffd"
      },
      "execution_count": 22,
      "outputs": [
        {
          "output_type": "display_data",
          "data": {
            "text/html": [
              "<table class=\"dataframe\">\n",
              "<caption>A matrix: 2 × 5 of type int</caption>\n",
              "<tbody>\n",
              "\t<tr><td>2</td><td> 5</td><td> 8</td><td>11</td><td>14</td></tr>\n",
              "\t<tr><td>8</td><td>11</td><td>14</td><td>17</td><td>20</td></tr>\n",
              "</tbody>\n",
              "</table>\n"
            ],
            "text/markdown": "\nA matrix: 2 × 5 of type int\n\n| 2 |  5 |  8 | 11 | 14 |\n| 8 | 11 | 14 | 17 | 20 |\n\n",
            "text/latex": "A matrix: 2 × 5 of type int\n\\begin{tabular}{lllll}\n\t 2 &  5 &  8 & 11 & 14\\\\\n\t 8 & 11 & 14 & 17 & 20\\\\\n\\end{tabular}\n",
            "text/plain": [
              "     [,1] [,2] [,3] [,4] [,5]\n",
              "[1,] 2     5    8   11   14  \n",
              "[2,] 8    11   14   17   20  "
            ]
          },
          "metadata": {}
        }
      ]
    },
    {
      "cell_type": "code",
      "source": [
        "mat1-mat2"
      ],
      "metadata": {
        "colab": {
          "base_uri": "https://localhost:8080/",
          "height": 114
        },
        "id": "E_5TbOjBUzjM",
        "outputId": "b792c1ed-0ee8-49e2-f7c8-bf2759db319d"
      },
      "execution_count": 23,
      "outputs": [
        {
          "output_type": "display_data",
          "data": {
            "text/html": [
              "<table class=\"dataframe\">\n",
              "<caption>A matrix: 2 × 5 of type int</caption>\n",
              "<tbody>\n",
              "\t<tr><td> 0</td><td> 1</td><td> 2</td><td> 3</td><td>4</td></tr>\n",
              "\t<tr><td>-4</td><td>-3</td><td>-2</td><td>-1</td><td>0</td></tr>\n",
              "</tbody>\n",
              "</table>\n"
            ],
            "text/markdown": "\nA matrix: 2 × 5 of type int\n\n|  0 |  1 |  2 |  3 | 4 |\n| -4 | -3 | -2 | -1 | 0 |\n\n",
            "text/latex": "A matrix: 2 × 5 of type int\n\\begin{tabular}{lllll}\n\t  0 &  1 &  2 &  3 & 4\\\\\n\t -4 & -3 & -2 & -1 & 0\\\\\n\\end{tabular}\n",
            "text/plain": [
              "     [,1] [,2] [,3] [,4] [,5]\n",
              "[1,]  0    1    2    3   4   \n",
              "[2,] -4   -3   -2   -1   0   "
            ]
          },
          "metadata": {}
        }
      ]
    },
    {
      "cell_type": "code",
      "source": [
        "mat1*mat2"
      ],
      "metadata": {
        "colab": {
          "base_uri": "https://localhost:8080/",
          "height": 114
        },
        "id": "TQZSQaq_U4xW",
        "outputId": "3190ae07-86dd-4dfe-9b34-dedce7145c43"
      },
      "execution_count": 24,
      "outputs": [
        {
          "output_type": "display_data",
          "data": {
            "text/html": [
              "<table class=\"dataframe\">\n",
              "<caption>A matrix: 2 × 5 of type int</caption>\n",
              "<tbody>\n",
              "\t<tr><td> 1</td><td> 6</td><td>15</td><td>28</td><td> 45</td></tr>\n",
              "\t<tr><td>12</td><td>28</td><td>48</td><td>72</td><td>100</td></tr>\n",
              "</tbody>\n",
              "</table>\n"
            ],
            "text/markdown": "\nA matrix: 2 × 5 of type int\n\n|  1 |  6 | 15 | 28 |  45 |\n| 12 | 28 | 48 | 72 | 100 |\n\n",
            "text/latex": "A matrix: 2 × 5 of type int\n\\begin{tabular}{lllll}\n\t  1 &  6 & 15 & 28 &  45\\\\\n\t 12 & 28 & 48 & 72 & 100\\\\\n\\end{tabular}\n",
            "text/plain": [
              "     [,1] [,2] [,3] [,4] [,5]\n",
              "[1,]  1    6   15   28    45 \n",
              "[2,] 12   28   48   72   100 "
            ]
          },
          "metadata": {}
        }
      ]
    },
    {
      "cell_type": "code",
      "source": [
        "mat1/mat2"
      ],
      "metadata": {
        "colab": {
          "base_uri": "https://localhost:8080/",
          "height": 97
        },
        "id": "cX9Xx4ECU6Tc",
        "outputId": "b8a0718f-ab91-4fc2-d2da-ca9efb86271a"
      },
      "execution_count": 25,
      "outputs": [
        {
          "output_type": "display_data",
          "data": {
            "text/html": [
              "<table class=\"dataframe\">\n",
              "<caption>A matrix: 2 × 5 of type dbl</caption>\n",
              "<tbody>\n",
              "\t<tr><td>1.0000000</td><td>1.5000000</td><td>1.666667</td><td>1.7500000</td><td>1.8</td></tr>\n",
              "\t<tr><td>0.3333333</td><td>0.5714286</td><td>0.750000</td><td>0.8888889</td><td>1.0</td></tr>\n",
              "</tbody>\n",
              "</table>\n"
            ],
            "text/markdown": "\nA matrix: 2 × 5 of type dbl\n\n| 1.0000000 | 1.5000000 | 1.666667 | 1.7500000 | 1.8 |\n| 0.3333333 | 0.5714286 | 0.750000 | 0.8888889 | 1.0 |\n\n",
            "text/latex": "A matrix: 2 × 5 of type dbl\n\\begin{tabular}{lllll}\n\t 1.0000000 & 1.5000000 & 1.666667 & 1.7500000 & 1.8\\\\\n\t 0.3333333 & 0.5714286 & 0.750000 & 0.8888889 & 1.0\\\\\n\\end{tabular}\n",
            "text/plain": [
              "     [,1]      [,2]      [,3]     [,4]      [,5]\n",
              "[1,] 1.0000000 1.5000000 1.666667 1.7500000 1.8 \n",
              "[2,] 0.3333333 0.5714286 0.750000 0.8888889 1.0 "
            ]
          },
          "metadata": {}
        }
      ]
    },
    {
      "cell_type": "code",
      "source": [
        "mat3%*%mat3"
      ],
      "metadata": {
        "colab": {
          "base_uri": "https://localhost:8080/",
          "height": 146
        },
        "id": "IVdgyaZTU98w",
        "outputId": "483c59e8-b0fa-4bfd-8f8d-a1684042f6bd"
      },
      "execution_count": 26,
      "outputs": [
        {
          "output_type": "display_data",
          "data": {
            "text/html": [
              "<table class=\"dataframe\">\n",
              "<caption>A matrix: 3 × 3 of type dbl</caption>\n",
              "<tbody>\n",
              "\t<tr><td>20</td><td> 54</td><td>15</td></tr>\n",
              "\t<tr><td>46</td><td>109</td><td>37</td></tr>\n",
              "\t<tr><td>81</td><td>141</td><td>53</td></tr>\n",
              "</tbody>\n",
              "</table>\n"
            ],
            "text/markdown": "\nA matrix: 3 × 3 of type dbl\n\n| 20 |  54 | 15 |\n| 46 | 109 | 37 |\n| 81 | 141 | 53 |\n\n",
            "text/latex": "A matrix: 3 × 3 of type dbl\n\\begin{tabular}{lll}\n\t 20 &  54 & 15\\\\\n\t 46 & 109 & 37\\\\\n\t 81 & 141 & 53\\\\\n\\end{tabular}\n",
            "text/plain": [
              "     [,1] [,2] [,3]\n",
              "[1,] 20    54  15  \n",
              "[2,] 46   109  37  \n",
              "[3,] 81   141  53  "
            ]
          },
          "metadata": {}
        }
      ]
    },
    {
      "cell_type": "code",
      "source": [
        "solve(mat3)"
      ],
      "metadata": {
        "colab": {
          "base_uri": "https://localhost:8080/",
          "height": 128
        },
        "id": "DINMVJt9VB6f",
        "outputId": "f8457f4d-16f8-4172-c7d6-48a3a0feb4e4"
      },
      "execution_count": 27,
      "outputs": [
        {
          "output_type": "display_data",
          "data": {
            "text/html": [
              "<table class=\"dataframe\">\n",
              "<caption>A matrix: 3 × 3 of type dbl</caption>\n",
              "<tbody>\n",
              "\t<tr><td>-0.39240506</td><td> 0.30379747</td><td>-0.06329114</td></tr>\n",
              "\t<tr><td>-0.05063291</td><td>-0.02531646</td><td> 0.08860759</td></tr>\n",
              "\t<tr><td> 0.77215190</td><td>-0.11392405</td><td>-0.10126582</td></tr>\n",
              "</tbody>\n",
              "</table>\n"
            ],
            "text/markdown": "\nA matrix: 3 × 3 of type dbl\n\n| -0.39240506 |  0.30379747 | -0.06329114 |\n| -0.05063291 | -0.02531646 |  0.08860759 |\n|  0.77215190 | -0.11392405 | -0.10126582 |\n\n",
            "text/latex": "A matrix: 3 × 3 of type dbl\n\\begin{tabular}{lll}\n\t -0.39240506 &  0.30379747 & -0.06329114\\\\\n\t -0.05063291 & -0.02531646 &  0.08860759\\\\\n\t  0.77215190 & -0.11392405 & -0.10126582\\\\\n\\end{tabular}\n",
            "text/plain": [
              "     [,1]        [,2]        [,3]       \n",
              "[1,] -0.39240506  0.30379747 -0.06329114\n",
              "[2,] -0.05063291 -0.02531646  0.08860759\n",
              "[3,]  0.77215190 -0.11392405 -0.10126582"
            ]
          },
          "metadata": {}
        }
      ]
    },
    {
      "cell_type": "markdown",
      "source": [
        "行列内の要素を参照してみよう"
      ],
      "metadata": {
        "id": "pbDcC3vxVNuL"
      }
    },
    {
      "cell_type": "code",
      "source": [
        "p <- mat1[1,2]\n",
        "q <- mat3[,2]\n",
        "r <- mat1[1,c(2,5)]"
      ],
      "metadata": {
        "id": "bY04AE-DVFl9"
      },
      "execution_count": 28,
      "outputs": []
    },
    {
      "cell_type": "code",
      "source": [
        "p"
      ],
      "metadata": {
        "id": "7ubDziXUVTV0",
        "outputId": "e3dc3fef-b023-4c5b-a711-9c54010b97e0",
        "colab": {
          "base_uri": "https://localhost:8080/",
          "height": 34
        }
      },
      "execution_count": 29,
      "outputs": [
        {
          "output_type": "display_data",
          "data": {
            "text/html": [
              "3"
            ],
            "text/markdown": "3",
            "text/latex": "3",
            "text/plain": [
              "[1] 3"
            ]
          },
          "metadata": {}
        }
      ]
    },
    {
      "cell_type": "code",
      "source": [
        "q"
      ],
      "metadata": {
        "id": "elh09WkcVWhb",
        "outputId": "cca99187-19fc-4694-b31b-793b593eb107",
        "colab": {
          "base_uri": "https://localhost:8080/",
          "height": 34
        }
      },
      "execution_count": 30,
      "outputs": [
        {
          "output_type": "display_data",
          "data": {
            "text/html": [
              "<style>\n",
              ".list-inline {list-style: none; margin:0; padding: 0}\n",
              ".list-inline>li {display: inline-block}\n",
              ".list-inline>li:not(:last-child)::after {content: \"\\00b7\"; padding: 0 .5ex}\n",
              "</style>\n",
              "<ol class=list-inline><li>3</li><li>7</li><li>15</li></ol>\n"
            ],
            "text/markdown": "1. 3\n2. 7\n3. 15\n\n\n",
            "text/latex": "\\begin{enumerate*}\n\\item 3\n\\item 7\n\\item 15\n\\end{enumerate*}\n",
            "text/plain": [
              "[1]  3  7 15"
            ]
          },
          "metadata": {}
        }
      ]
    },
    {
      "cell_type": "code",
      "source": [
        "r"
      ],
      "metadata": {
        "id": "EmjgRcUZVXsr",
        "outputId": "6df3e7e1-46f7-4fdd-d48b-69f8162e146e",
        "colab": {
          "base_uri": "https://localhost:8080/",
          "height": 34
        }
      },
      "execution_count": 31,
      "outputs": [
        {
          "output_type": "display_data",
          "data": {
            "text/html": [
              "<style>\n",
              ".list-inline {list-style: none; margin:0; padding: 0}\n",
              ".list-inline>li {display: inline-block}\n",
              ".list-inline>li:not(:last-child)::after {content: \"\\00b7\"; padding: 0 .5ex}\n",
              "</style>\n",
              "<ol class=list-inline><li>3</li><li>9</li></ol>\n"
            ],
            "text/markdown": "1. 3\n2. 9\n\n\n",
            "text/latex": "\\begin{enumerate*}\n\\item 3\n\\item 9\n\\end{enumerate*}\n",
            "text/plain": [
              "[1] 3 9"
            ]
          },
          "metadata": {}
        }
      ]
    }
  ]
}